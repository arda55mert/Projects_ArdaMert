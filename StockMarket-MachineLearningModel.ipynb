{
 "cells": [
  {
   "cell_type": "code",
   "execution_count": 1,
   "id": "736a0109-10bd-40bf-9fcd-d23c020e9648",
   "metadata": {},
   "outputs": [],
   "source": [
    "import cx_Oracle\n",
    "import pandas as pd\n",
    "import numpy as np\n",
    "import matplotlib.pyplot as plt\n",
    "import seaborn as sns\n",
    "import sklearn\n",
    "from sklearn import preprocessing\n",
    "from sklearn.preprocessing import OrdinalEncoder\n",
    "from sklearn.ensemble import RandomForestClassifier\n",
    "from sklearn.metrics import accuracy_score, classification_report, confusion_matrix\n",
    "from sklearn import tree\n",
    "from openpyxl import Workbook\n",
    "import trino\n",
    "from getpass import getpass\n",
    "import warnings\n",
    "warnings.filterwarnings('ignore')\n",
    "import xgboost as xgb\n",
    "from xgboost import XGBClassifier\n",
    "from sklearn.model_selection import train_test_split\n",
    "from sklearn.metrics import accuracy_score, classification_report, average_precision_score\n",
    "from sklearn.datasets import load_wine\n",
    "import optuna\n",
    "import lightgbm as lgb\n",
    "from sklearn.feature_selection import SelectFromModel\n",
    "from sklearn.metrics import f1_score\n",
    "from sklearn.model_selection import cross_val_score\n",
    "import shap\n",
    "import pyspark\n",
    "from pyspark.sql import SparkSession\n",
    "import pyspark.sql.functions as F\n",
    "from pyspark.sql.types import *\n",
    "from pyspark.sql.functions import *\n",
    "import imp\n",
    "import sys\n",
    "from pyspark import SparkConf"
   ]
  },
  {
   "cell_type": "code",
   "execution_count": 31,
   "id": "c14e70dd-f8d7-40e5-9581-8de46a51b7b4",
   "metadata": {},
   "outputs": [],
   "source": [
    "dsn = cx_Oracle.makedsn(\"fbdwhrpd-scan\", 1521, service_name=\"FBDWHPRD\")\n",
    "dsn = \"\"\"(DESCRIPTION = (ADDRESS = (PROTOCOL = TCP) (HOST = fbdwhprd-scan) (PORT = 1521) ) (CONNECT_DATA = (SERVER = dedicated) (SERVICE_NAME = FBDWHPRD)))\"\"\"\n",
    "\n",
    "connection = cx_Oracle.connect(\"FB007798\", \"PASSWORD\", dsn,encoding = \"UTF-8\", nencoding = \"UTF-8\")"
   ]
  },
  {
   "cell_type": "code",
   "execution_count": null,
   "id": "5f6ccf35-8b32-42e3-a9fe-f2c17fcf6778",
   "metadata": {},
   "outputs": [],
   "source": [
    "AT_X_train =pd.read_sql(\"\"\"(SELECT * FROM\n",
    "(SELECT * FROM FB007798.BORSA_FINAL_TRAIN_3\n",
    "WHERE TARGET = 1 AND AS_OF_DATE < to_date('20230630', 'YYYYMMDD'))\n",
    "UNION ALL \n",
    "SELECT * FROM\n",
    "(SELECT * FROM FB007798.BORSA_FINAL_TRAIN_3\n",
    "ORDER BY DBMS_RANDOM.RANDOM) WHERE TARGET = 0 AND AS_OF_DATE < to_date('20230630', 'YYYYMMDD') AND rownum < 250000)\"\"\",connection)\n",
    "AT_X_train.to_pickle('./AT_X_train.pickle')"
   ]
  },
  {
   "cell_type": "code",
   "execution_count": 4,
   "id": "92d3e5e3-6fbd-4b21-a93c-ceed5b9e406d",
   "metadata": {},
   "outputs": [],
   "source": [
    "AT_X_Test =pd.read_sql(\"\"\"SELECT * FROM FB007798.BORSA_FINAL_TRAIN_3\n",
    "WHERE AS_OF_DATE = to_date('20230630', 'YYYYMMDD')\"\"\",connection)\n",
    "AT_X_Test.to_pickle('./AT_X_Test.pickle')"
   ]
  },
  {
   "cell_type": "code",
   "execution_count": 21,
   "id": "e3a86384-490d-47b2-bd32-898b89ae0a1e",
   "metadata": {},
   "outputs": [],
   "source": [
    "AT_X_train = pd.read_pickle('./AT_X_train.pickle')\n",
    "AT_X_test = pd.read_pickle('./AT_X_Test.pickle')"
   ]
  },
  {
   "cell_type": "code",
   "execution_count": null,
   "id": "71af65d5-6c16-4e17-a1d9-f9a4926b957b",
   "metadata": {},
   "outputs": [],
   "source": [
    "## X_TRAIN COUNTLY BEGINNING"
   ]
  },
  {
   "cell_type": "code",
   "execution_count": null,
   "id": "d21819da-398f-4bee-9db0-0ba49209de7a",
   "metadata": {},
   "outputs": [],
   "source": [
    "conn = trino.dbapi.connect(\n",
    "    host= 'starburst.fibabanka.local',\n",
    "    port= 443,\n",
    "    http_scheme= 'https', \n",
    "    auth = trino.auth.BasicAuthentication('FB007798', 'PASSWORD'),\n",
    "    verify='./cacert.pem'\n",
    "    )\n",
    "cur = conn.cursor()"
   ]
  },
  {
   "cell_type": "code",
   "execution_count": null,
   "id": "6c5fee37-8114-4109-86b0-d8cd2a90c969",
   "metadata": {},
   "outputs": [],
   "source": [
    "def connect(dbName):\n",
    "    \n",
    "    if dbName=='Trino':\n",
    "        host= 'starburst.fibabanka.local'\n",
    "        port=443\n",
    "        http_scheme='https'\n",
    "        verify='cacert.pem'\n",
    "        username='FB007798'\n",
    "        passwd='ŞİFRE'\n",
    "        conn_info ={\n",
    "            'host':host,\n",
    "            'port':port,\n",
    "            'user':username,\n",
    "            'http_scheme':http_scheme,\n",
    "            'verify':verify,\n",
    "            'auth':trino.auth.BasicAuthentication(username,passwd)\n",
    "        }\n",
    "        connection=trino.dbapi.connect(**conn_info)\n",
    "    \n",
    "    else:\n",
    "        raise ValueError(\"Invalid dbName provided\")\n",
    "    return connection"
   ]
  },
  {
   "cell_type": "code",
   "execution_count": null,
   "id": "9d66cde9-f755-4da6-9a67-cc09904d2710",
   "metadata": {},
   "outputs": [],
   "source": [
    "connection = connect(dbName='Trino')\n",
    "\n",
    "sql_file_path = 'countly_entegrasyonu.sql'\n",
    "\n",
    "with open(sql_file_path,'r') as sql_file:\n",
    "    query=sql_file.read()\n",
    "\n",
    "\n",
    "cursor=connection.cursor()\n",
    "cursor.execute(query)\n",
    "\n",
    "AT_X_train = AT_X_train.set_index(['CUSTOMER_NUMBER', 'AS_OF_DATE'])\n",
    "\n",
    "while True:\n",
    "    data = pd.DataFrame(cursor.fetchmany(50000), columns=[desc[0] for desc in cursor.description])\n",
    "    if len(data) == 0:\n",
    "        break\n",
    "    \n",
    "    data['freq_lm_ratio'] = data['freq_lm'] / data['freq_l2m']\n",
    "    data['as_of_date'] = pd.to_datetime(data['as_of_date'])\n",
    "    \n",
    "    data = data.drop_duplicates(subset=['customernumber', 'as_of_date', 'category', 'subcategory'])\n",
    "    data = pd.pivot(data, index=['customernumber', 'as_of_date'], columns=['category', 'subcategory'], values=['freq_l2m', 'freq_lm', 'freq_lm_ratio'])\n",
    "    data.columns = ['_'.join(col) for col in data.columns]\n",
    "    \n",
    "  #  print(data) \n",
    "\n",
    "    \n",
    "    idxTrain = data[data.index.isin(AT_X_train.index)].index\n",
    "    \n",
    "    train_missing_cols = data.columns[~data.columns.isin(AT_X_train.columns)]\n",
    "    AT_X_train[train_missing_cols] = np.nan\n",
    "    \n",
    "    AT_X_train.loc[idxTrain, data.columns] = data.loc[idxTrain, data.columns]\n",
    "    print(len(data))\n",
    "\n",
    "connection.close()"
   ]
  },
  {
   "cell_type": "code",
   "execution_count": null,
   "id": "fda424c3-7f95-4090-a37b-b217a445a304",
   "metadata": {},
   "outputs": [],
   "source": [
    "AT_X_train.reset_index(inplace=True)"
   ]
  },
  {
   "cell_type": "code",
   "execution_count": null,
   "id": "7d5010c2-de6b-402c-9421-751523dc9957",
   "metadata": {},
   "outputs": [],
   "source": [
    "## X_TRAIN COUNTLY ENDING"
   ]
  },
  {
   "cell_type": "code",
   "execution_count": null,
   "id": "636435ae-21a6-4d9b-8e54-33a9066090dc",
   "metadata": {},
   "outputs": [],
   "source": [
    "## X_TEST COUNTLY BEGINNING"
   ]
  },
  {
   "cell_type": "code",
   "execution_count": null,
   "id": "b82adf2f-1bd2-4bd9-99a8-c35f08e6b992",
   "metadata": {},
   "outputs": [],
   "source": [
    "HiveSQL =\"select distinct ch.as_of_date,ch.customernumber, cl.category,cl.subcategory,ch.view_freq_last_2months as freq_l2m, ch.view_freq_last_month as freq_lm from countly.category_view_rank_history ch inner join countly.view_category_lookup cl on ch.category_code =cl.category_code where cl.category in('Yatırım-Hazine','Mevduat','Daily Banking') and cl.subcategory in('Kiraz','Kripto','Bes','Bono','FX','Oyak','Midas','Vadeli Mevduat','Fon','Şans Oyunu') -- and ch.as_of_date>=date_sub(to_date('20220631'),395) and ch.as_of_date>=date_add('day', -430, current_timestamp(1)) and ch.as_of_date=last_day_of_month(ch.as_of_date)\""
   ]
  },
  {
   "cell_type": "code",
   "execution_count": null,
   "id": "999a7af9-e429-48cc-bb67-f0fdf9396999",
   "metadata": {},
   "outputs": [],
   "source": [
    "conf = SparkConf()  # create the configuration\n",
    "conf.set(\"spark.jars\", \"/opt/cloudera/parcels/ORACLE_INSTANT_CLIENT/instantclient_11_2/ojdbc6.jar\")"
   ]
  },
  {
   "cell_type": "code",
   "execution_count": null,
   "id": "b655c0bc-58fb-4308-86ad-ef0341827968",
   "metadata": {},
   "outputs": [],
   "source": [
    "spark = SparkSession.builder.appName(\"isim\"). \\\n",
    "        enableHiveSupport().config(\"hive.exec.dynamic.partition\", \"true\"). \\\n",
    "        config('spark.executor.memory','12g'). \\\n",
    "        config('spark.driver.memory','10g') .\\\n",
    "        config('spark.executor.instances',2) .\\\n",
    "        config('spark.kryoserializer.buffer.max',2040) .\\\n",
    "        config(\"spark.rpc.message.maxSize\", \"1000\") .\\\n",
    "        config('spark.executor.cores',4) .\\\n",
    "        config(conf=conf). \\\n",
    "        getOrCreate()"
   ]
  },
  {
   "cell_type": "code",
   "execution_count": null,
   "id": "df3604c4-d8eb-495a-8098-73fb0c476107",
   "metadata": {},
   "outputs": [],
   "source": [
    "DF = spark.sql(HiveSQL)"
   ]
  },
  {
   "cell_type": "code",
   "execution_count": null,
   "id": "8972d460-0c80-4251-9360-1a3872562833",
   "metadata": {},
   "outputs": [],
   "source": [
    "import databricks.koalas as koalas"
   ]
  },
  {
   "cell_type": "code",
   "execution_count": null,
   "id": "b0327b53-3a24-4f74-9276-2ca2f59060d9",
   "metadata": {},
   "outputs": [],
   "source": [
    "DF = DF.to_koalas()"
   ]
  },
  {
   "cell_type": "code",
   "execution_count": null,
   "id": "17cd7f32-1c46-49a6-9fff-3101fed13371",
   "metadata": {},
   "outputs": [],
   "source": [
    "X_test_Countly = DF[(DF[\"as_of_date\"] == \"2023-06-30\")]"
   ]
  },
  {
   "cell_type": "code",
   "execution_count": null,
   "id": "5111044b-02c9-4274-92ab-8ffb59d006d3",
   "metadata": {},
   "outputs": [],
   "source": [
    "X = X_test_Countly.to_pandas()"
   ]
  },
  {
   "cell_type": "code",
   "execution_count": null,
   "id": "a7ecb5df-a4a2-4e2c-8f03-1d66013b32f8",
   "metadata": {},
   "outputs": [],
   "source": [
    "X = X.set_index(['customernumber', 'as_of_date'])"
   ]
  },
  {
   "cell_type": "code",
   "execution_count": null,
   "id": "048ec2e0-4100-4407-99e7-11d75ef2919a",
   "metadata": {},
   "outputs": [],
   "source": [
    "X['freq_lm_ratio'] = X['freq_lm'] / X['freq_l2m']\n",
    "X['as_of_date'] = pd.to_datetime(X['as_of_date'])\n",
    "    \n",
    "X = X.drop_duplicates(subset=['customernumber', 'as_of_date', 'category', 'subcategory'])\n",
    "X = pd.pivot(X, index=['customernumber', 'as_of_date'], columns=['category', 'subcategory'], values=['freq_l2m', 'freq_lm', 'freq_lm_ratio'])\n",
    "X.columns = ['_'.join(col) for col in X.columns]"
   ]
  },
  {
   "cell_type": "code",
   "execution_count": null,
   "id": "239d22f2-7b98-4024-83b5-521f8be464f2",
   "metadata": {},
   "outputs": [],
   "source": [
    "AT_X_test = AT_X_test.set_index(['CUSTOMER_NUMBER', 'AS_OF_DATE'])"
   ]
  },
  {
   "cell_type": "code",
   "execution_count": null,
   "id": "992e4fea-caa1-40a3-b555-cd2b3d8b3c06",
   "metadata": {},
   "outputs": [],
   "source": [
    "idxTest = X[X.index.isin(AT_X_test.index)].index\n",
    "test_missing_cols = X.columns[~X.columns.isin(NT_X_test.columns)]\n",
    "AT_X_test[test_missing_cols] = np.nan\n",
    "AT_X_test.loc[idxTest, X.columns] = X.loc[idxTest, X.columns]"
   ]
  },
  {
   "cell_type": "code",
   "execution_count": null,
   "id": "e62dd1a7-20b6-4e85-b2b8-be4e222227a7",
   "metadata": {},
   "outputs": [],
   "source": [
    "AT_X_test.reset_index(inplace=True)"
   ]
  },
  {
   "cell_type": "code",
   "execution_count": null,
   "id": "d590dae4-63ef-464b-9528-e4145fde6576",
   "metadata": {},
   "outputs": [],
   "source": [
    "## X_TEST COUNTLY ENDING"
   ]
  },
  {
   "cell_type": "code",
   "execution_count": 3,
   "id": "d1319de5-9fb9-4e07-813e-f56e3b12cc46",
   "metadata": {},
   "outputs": [],
   "source": [
    "AT_X_train.index = AT_X_train[\"CUSTOMER_NUMBER\"].astype(str) + AT_X_train[\"AS_OF_DATE\"].astype(str)\n",
    "AT_X_test.index = AT_X_test[\"CUSTOMER_NUMBER\"].astype(str) + AT_X_test[\"AS_OF_DATE\"].astype(str)"
   ]
  },
  {
   "cell_type": "code",
   "execution_count": 4,
   "id": "0fe2d02c-9023-48f7-8619-1f76abedfd53",
   "metadata": {},
   "outputs": [],
   "source": [
    "AT_X_train = AT_X_train.drop([\"CUSTOMER_NUMBER\", \"CUSTOMER_ID\"], axis = 1)\n",
    "AT_X_test = AT_X_test.drop([\"CUSTOMER_NUMBER\", \"CUSTOMER_ID\"], axis = 1)"
   ]
  },
  {
   "cell_type": "code",
   "execution_count": 5,
   "id": "ddfaaa23-e0cc-40ab-8cf9-4a3075c84308",
   "metadata": {},
   "outputs": [],
   "source": [
    "AT_Y_train = AT_X_train[\"TARGET\"]\n",
    "AT_Y_test = AT_X_test[\"TARGET\"]"
   ]
  },
  {
   "cell_type": "code",
   "execution_count": 6,
   "id": "c2a26e57-2083-4081-8b8f-6bf1027298ea",
   "metadata": {},
   "outputs": [],
   "source": [
    "AT_X_valid = AT_X_train[AT_X_train[\"AS_OF_DATE\"] == \"2023-05-31\"]\n",
    "AT_Y_valid = AT_Y_train.loc[AT_X_valid.index]\n",
    "AT_X_train = AT_X_train[AT_X_train[\"AS_OF_DATE\"] < \"2023-05-31\"]\n",
    "AT_Y_train = AT_Y_train.loc[AT_X_train.index]"
   ]
  },
  {
   "cell_type": "code",
   "execution_count": 7,
   "id": "def04205-b7a5-4ec5-b833-44fbc33c1a84",
   "metadata": {},
   "outputs": [],
   "source": [
    "AT_X_train = AT_X_train.drop(\"TARGET\", axis=1)\n",
    "AT_X_test = AT_X_test.drop(\"TARGET\", axis=1)\n",
    "AT_X_valid = AT_X_valid.drop(\"TARGET\", axis=1)"
   ]
  },
  {
   "cell_type": "code",
   "execution_count": 8,
   "id": "8e95e18b-1bc0-4670-9821-eee6439036d2",
   "metadata": {},
   "outputs": [],
   "source": [
    "AT_X_train[\"KKBSKORU\"] = pd.to_numeric(AT_X_train[\"KKBSKORU\"], downcast=\"float\")\n",
    "AT_X_train[\"BBEINDEX\"] = pd.to_numeric(AT_X_train[\"BBEINDEX\"], downcast=\"float\")\n",
    "\n",
    "AT_X_test[\"KKBSKORU\"] = pd.to_numeric(AT_X_test[\"KKBSKORU\"], downcast=\"float\")\n",
    "AT_X_test[\"BBEINDEX\"] = pd.to_numeric(AT_X_test[\"BBEINDEX\"], downcast=\"float\")\n",
    "\n",
    "AT_X_valid[\"KKBSKORU\"] = pd.to_numeric(AT_X_valid[\"KKBSKORU\"], downcast=\"float\")\n",
    "AT_X_valid[\"BBEINDEX\"] = pd.to_numeric(AT_X_valid[\"BBEINDEX\"], downcast=\"float\")"
   ]
  },
  {
   "cell_type": "code",
   "execution_count": 11,
   "id": "1cef1fb4-2864-410f-9d03-05b2e7ac1f6e",
   "metadata": {},
   "outputs": [],
   "source": [
    "AT_X_train.drop('CREDIT_CARD_LAST_TRANSACTION_DATE', axis=1, inplace=True)\n",
    "AT_X_test.drop('CREDIT_CARD_LAST_TRANSACTION_DATE', axis=1, inplace=True)\n",
    "AT_X_valid.drop('CREDIT_CARD_LAST_TRANSACTION_DATE', axis=1, inplace=True)"
   ]
  },
  {
   "cell_type": "code",
   "execution_count": 12,
   "id": "84c147de-8775-4688-bdb8-533d4947dd92",
   "metadata": {},
   "outputs": [],
   "source": [
    "AT_X_train[AT_X_train == \"Bilinmiyor\"] = np.NaN\n",
    "AT_X_train[AT_X_train == \"None\"] = np.NaN\n",
    "\n",
    "AT_X_test[AT_X_test == \"Bilinmiyor\"] = np.NaN\n",
    "AT_X_test[AT_X_test == \"None\"] = np.NaN\n",
    "\n",
    "AT_X_valid[AT_X_valid == \"Bilinmiyor\"] = np.NaN\n",
    "AT_X_valid[AT_X_valid == \"None\"] = np.NaN"
   ]
  },
  {
   "cell_type": "code",
   "execution_count": 13,
   "id": "db807c1a-b88c-4f82-8447-3d0c58dad89c",
   "metadata": {},
   "outputs": [],
   "source": [
    "fold_train = pd.DataFrame(AT_X_train[\"AS_OF_DATE\"].unique()).sort_values(by = 0).reset_index().reset_index()\n",
    "fold_train.drop(\"index\", axis = 1, inplace = True)\n",
    "fold_train = fold_train.rename(columns={'level_0': 'INDEX', 0: 'AS_OF_DATE'})\n",
    "\n",
    "fold_test = pd.DataFrame(AT_X_test[\"AS_OF_DATE\"].unique()).sort_values(by = 0).reset_index().reset_index()\n",
    "fold_test.drop(\"index\", axis = 1, inplace = True)\n",
    "fold_test = fold_test.rename(columns={'level_0': 'INDEX', 0: 'AS_OF_DATE'})\n",
    "\n",
    "fold_test['INDEX'] += (len(fold_train) + 1)"
   ]
  },
  {
   "cell_type": "code",
   "execution_count": 14,
   "id": "84e2f327-e5fb-4de7-955c-5ab928bc356b",
   "metadata": {},
   "outputs": [],
   "source": [
    "AT_X_train['AS_OF_DATE'] = AT_X_train['AS_OF_DATE'].map(fold_train.set_index('AS_OF_DATE')['INDEX'])\n",
    "AT_X_test['AS_OF_DATE'] = AT_X_test['AS_OF_DATE'].map(fold_test.set_index('AS_OF_DATE')['INDEX'])"
   ]
  },
  {
   "cell_type": "code",
   "execution_count": 15,
   "id": "e23c40c6-6893-49de-aa32-c74385a6bbcd",
   "metadata": {},
   "outputs": [],
   "source": [
    "fold_valid = pd.DataFrame(AT_X_valid[\"AS_OF_DATE\"].unique()).sort_values(by = 0).reset_index().reset_index()\n",
    "fold_valid.drop(\"index\", axis = 1, inplace = True)\n",
    "fold_valid = fold_valid.rename(columns={'level_0': 'INDEX', 0: 'AS_OF_DATE'})\n",
    "\n",
    "fold_valid['INDEX'] += len(fold_train)"
   ]
  },
  {
   "cell_type": "code",
   "execution_count": 16,
   "id": "efcc1f4e-c2b7-42b3-8722-c89f6ac7a464",
   "metadata": {},
   "outputs": [],
   "source": [
    "AT_X_valid['AS_OF_DATE'] = AT_X_valid['AS_OF_DATE'].map(fold_valid.set_index('AS_OF_DATE')['INDEX'])"
   ]
  },
  {
   "cell_type": "code",
   "execution_count": 17,
   "id": "517a17fd-9237-4546-8f9b-89e3c95eea3e",
   "metadata": {},
   "outputs": [
    {
     "data": {
      "text/html": [
       "<div>\n",
       "<style scoped>\n",
       "    .dataframe tbody tr th:only-of-type {\n",
       "        vertical-align: middle;\n",
       "    }\n",
       "\n",
       "    .dataframe tbody tr th {\n",
       "        vertical-align: top;\n",
       "    }\n",
       "\n",
       "    .dataframe thead th {\n",
       "        text-align: right;\n",
       "    }\n",
       "</style>\n",
       "<table border=\"1\" class=\"dataframe\">\n",
       "  <thead>\n",
       "    <tr style=\"text-align: right;\">\n",
       "      <th></th>\n",
       "      <th>Tarih</th>\n",
       "      <th>KapanisFiyati</th>\n",
       "      <th>Hacim</th>\n",
       "      <th>Miktar</th>\n",
       "      <th>KapanisFiyatiChange</th>\n",
       "      <th>HacimChange</th>\n",
       "      <th>MiktarChange</th>\n",
       "    </tr>\n",
       "  </thead>\n",
       "  <tbody>\n",
       "    <tr>\n",
       "      <th>4</th>\n",
       "      <td>0</td>\n",
       "      <td>2592.38</td>\n",
       "      <td>6.397460e+11</td>\n",
       "      <td>6.591951e+10</td>\n",
       "      <td>NaN</td>\n",
       "      <td>NaN</td>\n",
       "      <td>NaN</td>\n",
       "    </tr>\n",
       "    <tr>\n",
       "      <th>5</th>\n",
       "      <td>1</td>\n",
       "      <td>3171.21</td>\n",
       "      <td>1.577050e+12</td>\n",
       "      <td>1.612720e+11</td>\n",
       "      <td>0.223281</td>\n",
       "      <td>1.465119</td>\n",
       "      <td>1.446499</td>\n",
       "    </tr>\n",
       "    <tr>\n",
       "      <th>6</th>\n",
       "      <td>2</td>\n",
       "      <td>3179.99</td>\n",
       "      <td>2.063060e+12</td>\n",
       "      <td>1.732010e+11</td>\n",
       "      <td>0.002769</td>\n",
       "      <td>0.308177</td>\n",
       "      <td>0.073968</td>\n",
       "    </tr>\n",
       "    <tr>\n",
       "      <th>7</th>\n",
       "      <td>3</td>\n",
       "      <td>3978.96</td>\n",
       "      <td>1.849730e+12</td>\n",
       "      <td>1.421840e+11</td>\n",
       "      <td>0.251249</td>\n",
       "      <td>-0.103405</td>\n",
       "      <td>-0.179081</td>\n",
       "    </tr>\n",
       "    <tr>\n",
       "      <th>8</th>\n",
       "      <td>4</td>\n",
       "      <td>4977.64</td>\n",
       "      <td>2.899310e+12</td>\n",
       "      <td>1.905200e+11</td>\n",
       "      <td>0.250990</td>\n",
       "      <td>0.567423</td>\n",
       "      <td>0.339954</td>\n",
       "    </tr>\n",
       "    <tr>\n",
       "      <th>9</th>\n",
       "      <td>5</td>\n",
       "      <td>5509.16</td>\n",
       "      <td>3.108830e+12</td>\n",
       "      <td>1.722420e+11</td>\n",
       "      <td>0.106782</td>\n",
       "      <td>0.072265</td>\n",
       "      <td>-0.095937</td>\n",
       "    </tr>\n",
       "    <tr>\n",
       "      <th>10</th>\n",
       "      <td>6</td>\n",
       "      <td>4976.55</td>\n",
       "      <td>2.791510e+12</td>\n",
       "      <td>1.329440e+11</td>\n",
       "      <td>-0.096677</td>\n",
       "      <td>-0.102071</td>\n",
       "      <td>-0.228156</td>\n",
       "    </tr>\n",
       "    <tr>\n",
       "      <th>11</th>\n",
       "      <td>7</td>\n",
       "      <td>5237.33</td>\n",
       "      <td>1.357090e+12</td>\n",
       "      <td>6.744557e+10</td>\n",
       "      <td>0.052402</td>\n",
       "      <td>-0.513851</td>\n",
       "      <td>-0.492677</td>\n",
       "    </tr>\n",
       "    <tr>\n",
       "      <th>12</th>\n",
       "      <td>8</td>\n",
       "      <td>4812.93</td>\n",
       "      <td>2.313710e+12</td>\n",
       "      <td>1.232830e+11</td>\n",
       "      <td>-0.081034</td>\n",
       "      <td>0.704905</td>\n",
       "      <td>0.827889</td>\n",
       "    </tr>\n",
       "    <tr>\n",
       "      <th>13</th>\n",
       "      <td>9</td>\n",
       "      <td>4617.93</td>\n",
       "      <td>1.267000e+12</td>\n",
       "      <td>6.724873e+10</td>\n",
       "      <td>-0.040516</td>\n",
       "      <td>-0.452395</td>\n",
       "      <td>-0.454517</td>\n",
       "    </tr>\n",
       "    <tr>\n",
       "      <th>14</th>\n",
       "      <td>10</td>\n",
       "      <td>4886.91</td>\n",
       "      <td>1.586540e+12</td>\n",
       "      <td>8.380477e+10</td>\n",
       "      <td>0.058247</td>\n",
       "      <td>0.252202</td>\n",
       "      <td>0.246191</td>\n",
       "    </tr>\n",
       "    <tr>\n",
       "      <th>15</th>\n",
       "      <td>11</td>\n",
       "      <td>5759.11</td>\n",
       "      <td>1.939772e+12</td>\n",
       "      <td>9.506424e+10</td>\n",
       "      <td>0.178477</td>\n",
       "      <td>0.222643</td>\n",
       "      <td>0.134354</td>\n",
       "    </tr>\n",
       "  </tbody>\n",
       "</table>\n",
       "</div>"
      ],
      "text/plain": [
       "    Tarih  KapanisFiyati         Hacim        Miktar  KapanisFiyatiChange  \\\n",
       "4       0        2592.38  6.397460e+11  6.591951e+10                  NaN   \n",
       "5       1        3171.21  1.577050e+12  1.612720e+11             0.223281   \n",
       "6       2        3179.99  2.063060e+12  1.732010e+11             0.002769   \n",
       "7       3        3978.96  1.849730e+12  1.421840e+11             0.251249   \n",
       "8       4        4977.64  2.899310e+12  1.905200e+11             0.250990   \n",
       "9       5        5509.16  3.108830e+12  1.722420e+11             0.106782   \n",
       "10      6        4976.55  2.791510e+12  1.329440e+11            -0.096677   \n",
       "11      7        5237.33  1.357090e+12  6.744557e+10             0.052402   \n",
       "12      8        4812.93  2.313710e+12  1.232830e+11            -0.081034   \n",
       "13      9        4617.93  1.267000e+12  6.724873e+10            -0.040516   \n",
       "14     10        4886.91  1.586540e+12  8.380477e+10             0.058247   \n",
       "15     11        5759.11  1.939772e+12  9.506424e+10             0.178477   \n",
       "\n",
       "    HacimChange  MiktarChange  \n",
       "4           NaN           NaN  \n",
       "5      1.465119      1.446499  \n",
       "6      0.308177      0.073968  \n",
       "7     -0.103405     -0.179081  \n",
       "8      0.567423      0.339954  \n",
       "9      0.072265     -0.095937  \n",
       "10    -0.102071     -0.228156  \n",
       "11    -0.513851     -0.492677  \n",
       "12     0.704905      0.827889  \n",
       "13    -0.452395     -0.454517  \n",
       "14     0.252202      0.246191  \n",
       "15     0.222643      0.134354  "
      ]
     },
     "execution_count": 17,
     "metadata": {},
     "output_type": "execute_result"
    }
   ],
   "source": [
    "BIST_Verileri = pd.read_excel(\"./EVDS.xlsx\", engine = \"openpyxl\")\n",
    "BIST_Verileri = BIST_Verileri.drop(labels=[0,1,2,3,16], axis=0)\n",
    "BIST_Verileri.rename(columns={\"TP MK F BILESIK\": \"KapanisFiyati\", \"TP MK ISL HC\": \"Hacim\", \"TP MK ISL MK\": \"Miktar\"}, inplace = True)\n",
    "BIST_Verileri[\"KapanisFiyatiChange\"] = BIST_Verileri[\"KapanisFiyati\"].pct_change()\n",
    "BIST_Verileri[\"HacimChange\"] = BIST_Verileri[\"Hacim\"].pct_change()\n",
    "BIST_Verileri[\"MiktarChange\"] = BIST_Verileri[\"Miktar\"].pct_change()\n",
    "fold_BIST = pd.DataFrame(BIST_Verileri[\"Tarih\"].unique()).sort_values(by = 0).reset_index().reset_index()\n",
    "fold_BIST.drop(\"index\", axis = 1, inplace = True)\n",
    "fold_BIST = fold_BIST.rename(columns={'level_0': 'INDEX', 0: 'Tarih'})\n",
    "BIST_Verileri['Tarih'] = BIST_Verileri['Tarih'].map(fold_BIST.set_index('Tarih')['INDEX'])\n",
    "BIST_Verileri"
   ]
  },
  {
   "cell_type": "code",
   "execution_count": 18,
   "id": "5ab9bff3-21d2-4f88-b371-b1e78445fd00",
   "metadata": {},
   "outputs": [],
   "source": [
    "x = (pd.merge(AT_X_train, BIST_Verileri, left_on='AS_OF_DATE', right_on='Tarih', how='left'))\n",
    "x.index = AT_X_train.index\n",
    "AT_X_train = x.drop(\"Tarih\", axis=1)"
   ]
  },
  {
   "cell_type": "code",
   "execution_count": 19,
   "id": "8160911c-cbbc-4be5-8602-73f3c72200fc",
   "metadata": {},
   "outputs": [],
   "source": [
    "y = (pd.merge(AT_X_test, BIST_Verileri, left_on='AS_OF_DATE', right_on='Tarih', how='left'))\n",
    "y.index = AT_X_test.index\n",
    "AT_X_test = y.drop(\"Tarih\", axis=1)"
   ]
  },
  {
   "cell_type": "code",
   "execution_count": 20,
   "id": "db8efdb1-133a-4b02-9206-5eaf488f4b7f",
   "metadata": {},
   "outputs": [],
   "source": [
    "z = (pd.merge(AT_X_valid, BIST_Verileri, left_on='AS_OF_DATE', right_on='Tarih', how='left'))\n",
    "z.index = AT_X_valid.index\n",
    "AT_X_valid = z.drop(\"Tarih\", axis=1)"
   ]
  },
  {
   "cell_type": "code",
   "execution_count": 21,
   "id": "a1fb67e5-f5b5-45e8-81aa-473afce16913",
   "metadata": {},
   "outputs": [],
   "source": [
    "FHacim = pd.DataFrame(AT_X_train.groupby(\"AS_OF_DATE\")[\"ALL_CNL_STOCK_SUM_VOLUME_L1M\"].sum())\n",
    "FHacim.reset_index(inplace=True)\n",
    "FHacim.rename(columns={\"AS_OF_DATE\": \"Tarih\", \"ALL_CNL_STOCK_SUM_VOLUME_L1M\": \"FibaHacimAylık\"}, inplace = True)\n",
    "FHacim[\"FibaHacimAylıkChange\"] = FHacim[\"FibaHacimAylık\"].pct_change()\n",
    "\n",
    "x = (pd.merge(AT_X_train, FHacim, left_on='AS_OF_DATE', right_on='Tarih', how='left'))\n",
    "x.index = AT_X_train.index\n",
    "AT_X_train = x.drop(\"Tarih\", axis=1)\n",
    "\n",
    "FMiktar = pd.DataFrame(AT_X_train.groupby(\"AS_OF_DATE\")[\"ALL_CNL_STOCK_STOCK_TXN_COUNT_L1M\"].sum())\n",
    "FMiktar.reset_index(inplace=True)\n",
    "FMiktar.rename(columns={\"AS_OF_DATE\": \"Tarih\", \"ALL_CNL_STOCK_STOCK_TXN_COUNT_L1M\": \"FibaMiktarAylık\"}, inplace = True)\n",
    "FMiktar[\"FibaMiktarAylıkChange\"] = FMiktar[\"FibaMiktarAylık\"].pct_change()\n",
    "\n",
    "y = (pd.merge(AT_X_train, FMiktar, left_on='AS_OF_DATE', right_on='Tarih', how='left'))\n",
    "y.index = AT_X_train.index\n",
    "AT_X_train = y.drop(\"Tarih\", axis=1)"
   ]
  },
  {
   "cell_type": "code",
   "execution_count": 22,
   "id": "9c151225-f48a-4235-bc63-2c450a38eb7e",
   "metadata": {},
   "outputs": [],
   "source": [
    "FHacim9 = FHacim.loc[FHacim[\"Tarih\"] == 9]\n",
    "FMiktar9 = FMiktar.loc[FMiktar[\"Tarih\"] == 9]"
   ]
  },
  {
   "cell_type": "code",
   "execution_count": 23,
   "id": "88a21519-7d90-4d45-aeea-0039e09a79f9",
   "metadata": {},
   "outputs": [],
   "source": [
    "FHacim = pd.DataFrame(AT_X_valid.groupby(\"AS_OF_DATE\")[\"ALL_CNL_STOCK_SUM_VOLUME_L1M\"].sum())\n",
    "FHacim.reset_index(inplace=True)\n",
    "FHacim.rename(columns={\"AS_OF_DATE\": \"Tarih\", \"ALL_CNL_STOCK_SUM_VOLUME_L1M\": \"FibaHacimAylık\"}, inplace = True)\n",
    "frames = [FHacim9, FHacim]\n",
    "FHacim = pd.concat(frames)\n",
    "FHacim[\"FibaHacimAylıkChange\"] = FHacim[\"FibaHacimAylık\"].pct_change()\n",
    "FHacim = FHacim.drop(labels=[9], axis=0)\n",
    "\n",
    "x = (pd.merge(AT_X_valid, FHacim, left_on='AS_OF_DATE', right_on='Tarih', how='left'))\n",
    "x.index = AT_X_valid.index\n",
    "AT_X_valid = x.drop(\"Tarih\", axis=1)\n",
    "\n",
    "FMiktar = pd.DataFrame(AT_X_valid.groupby(\"AS_OF_DATE\")[\"ALL_CNL_STOCK_STOCK_TXN_COUNT_L1M\"].sum())\n",
    "FMiktar.reset_index(inplace=True)\n",
    "FMiktar.rename(columns={\"AS_OF_DATE\": \"Tarih\", \"ALL_CNL_STOCK_STOCK_TXN_COUNT_L1M\": \"FibaMiktarAylık\"}, inplace = True)\n",
    "frames = [FMiktar9, FMiktar]\n",
    "FMiktar = pd.concat(frames)\n",
    "FMiktar[\"FibaMiktarAylıkChange\"] = FMiktar[\"FibaMiktarAylık\"].pct_change()\n",
    "FMiktar = FMiktar.drop(labels=[9], axis=0)\n",
    "\n",
    "y = (pd.merge(AT_X_valid, FMiktar, left_on='AS_OF_DATE', right_on='Tarih', how='left'))\n",
    "y.index = AT_X_valid.index\n",
    "AT_X_valid = y.drop(\"Tarih\", axis=1)"
   ]
  },
  {
   "cell_type": "code",
   "execution_count": 24,
   "id": "7a15e6f0-5157-4fe3-971d-4c2a16bfdd3f",
   "metadata": {},
   "outputs": [],
   "source": [
    "FHacim10 = FHacim.drop(\"FibaHacimAylıkChange\", axis=1)\n",
    "FMiktar10 = FMiktar.drop(\"FibaMiktarAylıkChange\", axis=1)"
   ]
  },
  {
   "cell_type": "code",
   "execution_count": 25,
   "id": "7649c0f3-57e9-4f59-8325-aa414e145b3c",
   "metadata": {},
   "outputs": [],
   "source": [
    "FHacim = pd.DataFrame(AT_X_test.groupby(\"AS_OF_DATE\")[\"ALL_CNL_STOCK_SUM_VOLUME_L1M\"].sum())\n",
    "FHacim.reset_index(inplace=True)\n",
    "FHacim.rename(columns={\"AS_OF_DATE\": \"Tarih\", \"ALL_CNL_STOCK_SUM_VOLUME_L1M\": \"FibaHacimAylık\"}, inplace = True)\n",
    "frames = [FHacim10, FHacim]\n",
    "FHacim = pd.concat(frames)\n",
    "FHacim[\"FibaHacimAylıkChange\"] = FHacim[\"FibaHacimAylık\"].pct_change()\n",
    "FHacim = FHacim.reset_index(drop=True)\n",
    "FHacim = FHacim.drop(labels=[0], axis=0)\n",
    "\n",
    "x = (pd.merge(AT_X_test, FHacim, left_on='AS_OF_DATE', right_on='Tarih', how='left'))\n",
    "x.index = AT_X_test.index\n",
    "AT_X_test = x.drop(\"Tarih\", axis=1)\n",
    "\n",
    "FMiktar = pd.DataFrame(AT_X_test.groupby(\"AS_OF_DATE\")[\"ALL_CNL_STOCK_STOCK_TXN_COUNT_L1M\"].sum())\n",
    "FMiktar.reset_index(inplace=True)\n",
    "FMiktar.rename(columns={\"AS_OF_DATE\": \"Tarih\", \"ALL_CNL_STOCK_STOCK_TXN_COUNT_L1M\": \"FibaMiktarAylık\"}, inplace = True)\n",
    "frames = [FMiktar10, FMiktar]\n",
    "FMiktar = pd.concat(frames)\n",
    "FMiktar[\"FibaMiktarAylıkChange\"] = FMiktar[\"FibaMiktarAylık\"].pct_change()\n",
    "FMiktar = FMiktar.reset_index(drop=True)\n",
    "FMiktar = FMiktar.drop(labels=[0], axis=0)\n",
    "\n",
    "y = (pd.merge(AT_X_test, FMiktar, left_on='AS_OF_DATE', right_on='Tarih', how='left'))\n",
    "y.index = AT_X_test.index\n",
    "AT_X_test = y.drop(\"Tarih\", axis=1)"
   ]
  },
  {
   "cell_type": "code",
   "execution_count": 26,
   "id": "7a8c4f0a-6c69-4467-b613-89bc31f8070e",
   "metadata": {},
   "outputs": [],
   "source": [
    "AT_X_train[\"Fiba/Turkey_Hacim\"] = AT_X_train[\"FibaHacimAylık\"] / AT_X_train[\"Hacim\"]\n",
    "AT_X_train[\"Fiba/Turkey_Miktar\"] = AT_X_train[\"FibaMiktarAylık\"] / AT_X_train[\"Miktar\"]\n",
    "\n",
    "AT_X_test[\"Fiba/Turkey_Hacim\"] = AT_X_test[\"FibaHacimAylık\"] / AT_X_test[\"Hacim\"]\n",
    "AT_X_test[\"Fiba/Turkey_Miktar\"] = AT_X_test[\"FibaMiktarAylık\"] / AT_X_test[\"Miktar\"]\n",
    "\n",
    "AT_X_valid[\"Fiba/Turkey_Hacim\"] = AT_X_valid[\"FibaHacimAylık\"] / AT_X_valid[\"Hacim\"]\n",
    "AT_X_valid[\"Fiba/Turkey_Miktar\"] = AT_X_valid[\"FibaMiktarAylık\"] / AT_X_valid[\"Miktar\"]"
   ]
  },
  {
   "cell_type": "code",
   "execution_count": 32,
   "id": "84f65965-f54a-4e60-a384-18d768bc9331",
   "metadata": {},
   "outputs": [],
   "source": [
    "i = 0\n",
    "while i < len(AT_X_train_categorical.columns):\n",
    "    number = OrdinalEncoder(handle_unknown='use_encoded_value',\n",
    "                                 unknown_value=-1)\n",
    "    AT_X_train_categorical.iloc[:,i] = number.fit_transform(AT_X_train_categorical.iloc[:,i].values.reshape(-1,1))\n",
    "    AT_X_test_categorical.iloc[:,i]  = number.transform(AT_X_test_categorical.iloc[:,i].values.reshape(-1,1))\n",
    "    AT_X_valid_categorical.iloc[:,i] = number.transform(AT_X_valid_categorical.iloc[:,i].values.reshape(-1,1))\n",
    "    i += 1"
   ]
  },
  {
   "cell_type": "code",
   "execution_count": 33,
   "id": "b1d1d494-ac77-488d-b007-dd4f92fe62cf",
   "metadata": {},
   "outputs": [],
   "source": [
    "AT_X_train = AT_X_train.drop([\"CUSTOMER_LIFECYCLE_CURRENT\", \"CUSTOMER_LIFECYCLE_EVER\", \"FX_LIFECYCLE_CURRENT\", \"MESLEK_EDUCATION\",  \"MESLEK_WORK_STATUS\", \"MESLEK_OCCUPATION\", \"MESLEK_PROFESSION\"], axis=1)\n",
    "AT_X_test = AT_X_test.drop([\"CUSTOMER_LIFECYCLE_CURRENT\", \"CUSTOMER_LIFECYCLE_EVER\", \"FX_LIFECYCLE_CURRENT\", \"MESLEK_EDUCATION\",  \"MESLEK_WORK_STATUS\", \"MESLEK_OCCUPATION\", \"MESLEK_PROFESSION\"], axis=1)\n",
    "AT_X_valid = AT_X_valid.drop([\"CUSTOMER_LIFECYCLE_CURRENT\", \"CUSTOMER_LIFECYCLE_EVER\", \"FX_LIFECYCLE_CURRENT\", \"MESLEK_EDUCATION\",  \"MESLEK_WORK_STATUS\", \"MESLEK_OCCUPATION\", \"MESLEK_PROFESSION\"], axis=1)"
   ]
  },
  {
   "cell_type": "code",
   "execution_count": 34,
   "id": "4e141204-cd19-433e-9b90-fb51b2815e03",
   "metadata": {},
   "outputs": [],
   "source": [
    "frames = [AT_X_train, AT_X_train_categorical]\n",
    "AT_X_train = pd.concat(frames, axis=\"columns\")"
   ]
  },
  {
   "cell_type": "code",
   "execution_count": 35,
   "id": "9354d928-90fb-4452-8ee1-f5c229450412",
   "metadata": {},
   "outputs": [],
   "source": [
    "frames = [AT_X_test, AT_X_test_categorical]\n",
    "AT_X_test = pd.concat(frames, axis=\"columns\")"
   ]
  },
  {
   "cell_type": "code",
   "execution_count": 36,
   "id": "078406f0-e2a8-4e00-adce-4248f25d6c74",
   "metadata": {},
   "outputs": [],
   "source": [
    "frames = [AT_X_valid, AT_X_valid_categorical]\n",
    "AT_X_valid = pd.concat(frames, axis=\"columns\")"
   ]
  },
  {
   "cell_type": "code",
   "execution_count": 41,
   "id": "0006e400-23d0-48f2-a066-b8ea782229d0",
   "metadata": {},
   "outputs": [],
   "source": [
    "## Improvement \n",
    "def filling_missing_values(col1, col2, col3):\n",
    "        if (col1.median() > (col1.mean() - (0.5)*(col1.std()))) & (col1.median() < (col1.mean() + (0.5)*(col1.std()))):\n",
    "            col3.fillna(col1.mean(), inplace = True)\n",
    "            col2.fillna(col1.mean(), inplace = True)\n",
    "            col1.fillna(col1.mean(), inplace = True)\n",
    "        else:\n",
    "            col3.fillna(col1.median(), inplace = True)\n",
    "            col2.fillna(col1.median(), inplace = True)\n",
    "            col1.fillna(col1.median(), inplace = True)"
   ]
  },
  {
   "cell_type": "code",
   "execution_count": 42,
   "id": "d81b47b7-0e52-42e5-9d80-d72b3ece2316",
   "metadata": {},
   "outputs": [],
   "source": [
    "turn = 0\n",
    "for col in list(AT_X_train.columns):\n",
    "    filling_missing_values(AT_X_train[col], AT_X_test[col], AT_X_valid[col])\n",
    "    turn += 1"
   ]
  },
  {
   "cell_type": "code",
   "execution_count": 51,
   "id": "b3c76024-d814-4f61-a7d3-5d3b73c25117",
   "metadata": {},
   "outputs": [],
   "source": [
    "def objective(trial):\n",
    "    params = {\n",
    "        'max_depth': trial.suggest_int('max_depth', 1, 9),\n",
    "        'learning_rate': trial.suggest_loguniform('learning_rate', 0.01, 1.0),\n",
    "        'n_estimators': trial.suggest_int('n_estimators', 50, 200),\n",
    "        'min_child_weight': trial.suggest_int('min_child_weight', 1, 10),\n",
    "        'gamma': trial.suggest_loguniform('gamma', 1e-8, 1.0),\n",
    "        'subsample': trial.suggest_loguniform('subsample', 0.01, 1.0),\n",
    "        'colsample_bytree': trial.suggest_loguniform('colsample_bytree', 0.01, 1.0),\n",
    "        'reg_alpha': trial.suggest_loguniform('reg_alpha', 1e-8, 1.0),\n",
    "        'reg_lambda': trial.suggest_loguniform('reg_lambda', 1e-8, 1.0),\n",
    "        'eval_metric': 'mlogloss',\n",
    "        'use_label_encoder': False\n",
    "    }\n",
    "\n",
    "    # Fit the model\n",
    "    optuna_model = XGBClassifier(**params, n_jobs = 8)\n",
    "    optuna_model.fit(AT_X_train, AT_Y_train)\n",
    "\n",
    "    # Make predictions\n",
    "    # Y_pred_train = optuna_model.predict(NT_X_train)\n",
    "    Y_pred_valid = optuna_model.predict(AT_X_valid)\n",
    "\n",
    "    # Evaluate predictions\n",
    "    # f1_train = f1_score(NT_Y_train, Y_pred_train, average='macro')\n",
    "    f1 = f1_score(AT_Y_valid, Y_pred_valid, average='macro')\n",
    "    # accuracy = accuracy_score(NT_Y_valid, Y_pred_valid)\n",
    "    return f1 #, accuracy \n",
    "    #, (f1_train-f1_valid)"
   ]
  },
  {
   "cell_type": "code",
   "execution_count": 52,
   "id": "73c4e1bd-3d72-4521-96cd-221e94f00a9b",
   "metadata": {},
   "outputs": [
    {
     "name": "stderr",
     "output_type": "stream",
     "text": [
      "\u001b[32m[I 2023-07-29 15:51:47,966]\u001b[0m A new study created in memory with name: Classifier\u001b[0m\n"
     ]
    }
   ],
   "source": [
    "study = optuna.create_study(direction = 'maximize', study_name='Classifier')"
   ]
  },
  {
   "cell_type": "code",
   "execution_count": 53,
   "id": "484f2228-c1b0-4d5b-84dc-0cc3e8d2a7cc",
   "metadata": {},
   "outputs": [
    {
     "name": "stderr",
     "output_type": "stream",
     "text": [
      "  5%|▌         | 1/20 [00:29<09:13, 29.13s/it]"
     ]
    },
    {
     "name": "stdout",
     "output_type": "stream",
     "text": [
      "\u001b[32m[I 2023-07-29 15:52:17,560]\u001b[0m Trial 0 finished with value: 0.9430552445204499 and parameters: {'max_depth': 7, 'learning_rate': 0.026351360314430354, 'n_estimators': 148, 'min_child_weight': 5, 'gamma': 2.0635435833208472e-08, 'subsample': 0.5929066435441106, 'colsample_bytree': 0.037072994392624486, 'reg_alpha': 8.724907475497637e-07, 'reg_lambda': 0.012885804463603562}. Best is trial 0 with value: 0.9430552445204499.\u001b[0m\n"
     ]
    },
    {
     "name": "stderr",
     "output_type": "stream",
     "text": [
      " 10%|█         | 2/20 [00:42<05:58, 19.94s/it]"
     ]
    },
    {
     "name": "stdout",
     "output_type": "stream",
     "text": [
      "\u001b[32m[I 2023-07-29 15:52:31,060]\u001b[0m Trial 1 finished with value: 0.9403260747193081 and parameters: {'max_depth': 7, 'learning_rate': 0.0683243659883685, 'n_estimators': 112, 'min_child_weight': 10, 'gamma': 0.03930300324784637, 'subsample': 0.03542790556107501, 'colsample_bytree': 0.011696414363137352, 'reg_alpha': 1.2254644865963922e-07, 'reg_lambda': 1.6347313570494772e-06}. Best is trial 0 with value: 0.9430552445204499.\u001b[0m\n"
     ]
    },
    {
     "name": "stderr",
     "output_type": "stream",
     "text": [
      " 15%|█▌        | 3/20 [01:05<05:58, 21.10s/it]"
     ]
    },
    {
     "name": "stdout",
     "output_type": "stream",
     "text": [
      "\u001b[32m[I 2023-07-29 15:52:53,553]\u001b[0m Trial 2 finished with value: 0.9313494185455111 and parameters: {'max_depth': 4, 'learning_rate': 0.9369007398698375, 'n_estimators': 76, 'min_child_weight': 2, 'gamma': 6.034625877814126e-07, 'subsample': 0.01389366824693545, 'colsample_bytree': 0.6376805932050662, 'reg_alpha': 0.00427096779674914, 'reg_lambda': 1.4620883541090918e-07}. Best is trial 0 with value: 0.9430552445204499.\u001b[0m\n"
     ]
    },
    {
     "name": "stderr",
     "output_type": "stream",
     "text": [
      " 20%|██        | 4/20 [01:54<08:38, 32.39s/it]"
     ]
    },
    {
     "name": "stdout",
     "output_type": "stream",
     "text": [
      "\u001b[32m[I 2023-07-29 15:53:43,244]\u001b[0m Trial 3 finished with value: 0.9627735779445976 and parameters: {'max_depth': 4, 'learning_rate': 0.026442226461044636, 'n_estimators': 169, 'min_child_weight': 8, 'gamma': 0.004729714556302386, 'subsample': 0.31270134958808404, 'colsample_bytree': 0.3702560883383744, 'reg_alpha': 0.0003993113369294674, 'reg_lambda': 2.1258006868005183e-07}. Best is trial 3 with value: 0.9627735779445976.\u001b[0m\n"
     ]
    },
    {
     "name": "stderr",
     "output_type": "stream",
     "text": [
      " 25%|██▌       | 5/20 [02:06<06:15, 25.04s/it]"
     ]
    },
    {
     "name": "stdout",
     "output_type": "stream",
     "text": [
      "\u001b[32m[I 2023-07-29 15:53:55,245]\u001b[0m Trial 4 finished with value: 0.9554981808525056 and parameters: {'max_depth': 5, 'learning_rate': 0.44423406501531537, 'n_estimators': 74, 'min_child_weight': 9, 'gamma': 0.03018080553622051, 'subsample': 0.030593416047095316, 'colsample_bytree': 0.07474105947668, 'reg_alpha': 0.009346244411613436, 'reg_lambda': 1.56947435745845e-07}. Best is trial 3 with value: 0.9627735779445976.\u001b[0m\n"
     ]
    },
    {
     "name": "stderr",
     "output_type": "stream",
     "text": [
      " 30%|███       | 6/20 [02:23<05:12, 22.31s/it]"
     ]
    },
    {
     "name": "stdout",
     "output_type": "stream",
     "text": [
      "\u001b[32m[I 2023-07-29 15:54:12,274]\u001b[0m Trial 5 finished with value: 0.9470766807295191 and parameters: {'max_depth': 8, 'learning_rate': 0.4319177474377114, 'n_estimators': 162, 'min_child_weight': 8, 'gamma': 0.0024864552258750845, 'subsample': 0.04007887087359502, 'colsample_bytree': 0.01312748642759781, 'reg_alpha': 1.087922316680651e-07, 'reg_lambda': 2.734266094720352e-07}. Best is trial 3 with value: 0.9627735779445976.\u001b[0m\n"
     ]
    },
    {
     "name": "stderr",
     "output_type": "stream",
     "text": [
      " 35%|███▌      | 7/20 [03:25<07:39, 35.33s/it]"
     ]
    },
    {
     "name": "stdout",
     "output_type": "stream",
     "text": [
      "\u001b[32m[I 2023-07-29 15:55:14,403]\u001b[0m Trial 6 finished with value: 0.9624560417646398 and parameters: {'max_depth': 4, 'learning_rate': 0.042976505134627654, 'n_estimators': 196, 'min_child_weight': 7, 'gamma': 0.010433885904336908, 'subsample': 0.030008300368673496, 'colsample_bytree': 0.7934151920296656, 'reg_alpha': 0.36770098389753175, 'reg_lambda': 3.683067005419044e-05}. Best is trial 3 with value: 0.9627735779445976.\u001b[0m\n"
     ]
    },
    {
     "name": "stderr",
     "output_type": "stream",
     "text": [
      " 40%|████      | 8/20 [04:36<09:20, 46.67s/it]"
     ]
    },
    {
     "name": "stdout",
     "output_type": "stream",
     "text": [
      "\u001b[32m[I 2023-07-29 15:56:25,343]\u001b[0m Trial 7 finished with value: 0.9639246316713483 and parameters: {'max_depth': 7, 'learning_rate': 0.22852788024166984, 'n_estimators': 195, 'min_child_weight': 6, 'gamma': 0.006406682189041974, 'subsample': 0.42647713585702873, 'colsample_bytree': 0.23088594562800246, 'reg_alpha': 8.9123517547569e-05, 'reg_lambda': 0.0002174343821899444}. Best is trial 7 with value: 0.9639246316713483.\u001b[0m\n"
     ]
    },
    {
     "name": "stderr",
     "output_type": "stream",
     "text": [
      " 45%|████▌     | 9/20 [05:01<07:19, 39.91s/it]"
     ]
    },
    {
     "name": "stdout",
     "output_type": "stream",
     "text": [
      "\u001b[32m[I 2023-07-29 15:56:50,392]\u001b[0m Trial 8 finished with value: 0.9606611494608956 and parameters: {'max_depth': 9, 'learning_rate': 0.05010063774731311, 'n_estimators': 57, 'min_child_weight': 2, 'gamma': 0.004385196888089359, 'subsample': 0.11940964763977635, 'colsample_bytree': 0.283202233581972, 'reg_alpha': 2.5069701563720282e-05, 'reg_lambda': 1.558006002248523e-07}. Best is trial 7 with value: 0.9639246316713483.\u001b[0m\n"
     ]
    },
    {
     "name": "stderr",
     "output_type": "stream",
     "text": [
      " 50%|█████     | 10/20 [06:08<08:00, 48.06s/it]"
     ]
    },
    {
     "name": "stdout",
     "output_type": "stream",
     "text": [
      "\u001b[32m[I 2023-07-29 15:57:56,712]\u001b[0m Trial 9 finished with value: 0.964755685094421 and parameters: {'max_depth': 7, 'learning_rate': 0.04792315935319239, 'n_estimators': 166, 'min_child_weight': 3, 'gamma': 0.009890233036480074, 'subsample': 0.19143909966083675, 'colsample_bytree': 0.3800313503082633, 'reg_alpha': 5.869500843986939e-05, 'reg_lambda': 4.002309577986125e-06}. Best is trial 9 with value: 0.964755685094421.\u001b[0m\n"
     ]
    },
    {
     "name": "stderr",
     "output_type": "stream",
     "text": [
      " 55%|█████▌    | 11/20 [06:21<05:35, 37.33s/it]"
     ]
    },
    {
     "name": "stdout",
     "output_type": "stream",
     "text": [
      "\u001b[32m[I 2023-07-29 15:58:09,708]\u001b[0m Trial 10 finished with value: 0.906855059425587 and parameters: {'max_depth': 1, 'learning_rate': 0.01259207920066476, 'n_estimators': 127, 'min_child_weight': 3, 'gamma': 2.5296064203948432e-05, 'subsample': 0.16844470942667408, 'colsample_bytree': 0.10160246069295158, 'reg_alpha': 4.1076353207678545e-06, 'reg_lambda': 0.042334126051489396}. Best is trial 9 with value: 0.964755685094421.\u001b[0m\n"
     ]
    },
    {
     "name": "stderr",
     "output_type": "stream",
     "text": [
      " 60%|██████    | 12/20 [07:13<05:35, 41.97s/it]"
     ]
    },
    {
     "name": "stdout",
     "output_type": "stream",
     "text": [
      "\u001b[32m[I 2023-07-29 15:59:02,297]\u001b[0m Trial 11 finished with value: 0.9645025061806034 and parameters: {'max_depth': 6, 'learning_rate': 0.17617156712192064, 'n_estimators': 199, 'min_child_weight': 5, 'gamma': 0.7158597609435526, 'subsample': 0.8240896386542672, 'colsample_bytree': 0.1860523214956411, 'reg_alpha': 0.00019472198668343393, 'reg_lambda': 0.0001185718432890018}. Best is trial 9 with value: 0.964755685094421.\u001b[0m\n"
     ]
    },
    {
     "name": "stderr",
     "output_type": "stream",
     "text": [
      " 65%|██████▌   | 13/20 [07:52<04:46, 40.95s/it]"
     ]
    },
    {
     "name": "stdout",
     "output_type": "stream",
     "text": [
      "\u001b[32m[I 2023-07-29 15:59:40,898]\u001b[0m Trial 12 finished with value: 0.9645869194863192 and parameters: {'max_depth': 6, 'learning_rate': 0.16244084797997876, 'n_estimators': 182, 'min_child_weight': 4, 'gamma': 0.46741388387934457, 'subsample': 0.9807743636040742, 'colsample_bytree': 0.1380769154555329, 'reg_alpha': 0.0016601702109962893, 'reg_lambda': 4.826684116765224e-05}. Best is trial 9 with value: 0.964755685094421.\u001b[0m\n"
     ]
    },
    {
     "name": "stderr",
     "output_type": "stream",
     "text": [
      " 70%|███████   | 14/20 [08:35<04:09, 41.51s/it]"
     ]
    },
    {
     "name": "stdout",
     "output_type": "stream",
     "text": [
      "\u001b[32m[I 2023-07-29 16:00:23,694]\u001b[0m Trial 13 finished with value: 0.9626971346827096 and parameters: {'max_depth': 9, 'learning_rate': 0.1209904959341132, 'n_estimators': 174, 'min_child_weight': 4, 'gamma': 0.8215485385375461, 'subsample': 0.2484314854622552, 'colsample_bytree': 0.11172121977793775, 'reg_alpha': 0.005678682278059038, 'reg_lambda': 8.913269018403868e-06}. Best is trial 9 with value: 0.964755685094421.\u001b[0m\n"
     ]
    },
    {
     "name": "stderr",
     "output_type": "stream",
     "text": [
      " 75%|███████▌  | 15/20 [08:53<02:52, 34.43s/it]"
     ]
    },
    {
     "name": "stdout",
     "output_type": "stream",
     "text": [
      "\u001b[32m[I 2023-07-29 16:00:41,724]\u001b[0m Trial 14 finished with value: 0.9515351679716748 and parameters: {'max_depth': 6, 'learning_rate': 0.09277615734504822, 'n_estimators': 145, 'min_child_weight': 1, 'gamma': 0.0001102309698946031, 'subsample': 0.06133377337977442, 'colsample_bytree': 0.04442459262383502, 'reg_alpha': 0.3682990240893192, 'reg_lambda': 0.0019062270917712208}. Best is trial 9 with value: 0.964755685094421.\u001b[0m\n"
     ]
    },
    {
     "name": "stderr",
     "output_type": "stream",
     "text": [
      " 80%|████████  | 16/20 [09:25<02:15, 33.77s/it]"
     ]
    },
    {
     "name": "stdout",
     "output_type": "stream",
     "text": [
      "\u001b[32m[I 2023-07-29 16:01:13,974]\u001b[0m Trial 15 finished with value: 0.9642575073154216 and parameters: {'max_depth': 3, 'learning_rate': 0.26733271339569054, 'n_estimators': 116, 'min_child_weight': 4, 'gamma': 0.00013262227564593378, 'subsample': 0.9389512764375031, 'colsample_bytree': 0.45581935278739755, 'reg_alpha': 0.0010049607336641028, 'reg_lambda': 0.5194767812273983}. Best is trial 9 with value: 0.964755685094421.\u001b[0m\n"
     ]
    },
    {
     "name": "stderr",
     "output_type": "stream",
     "text": [
      " 85%|████████▌ | 17/20 [10:00<01:42, 34.15s/it]"
     ]
    },
    {
     "name": "stdout",
     "output_type": "stream",
     "text": [
      "\u001b[32m[I 2023-07-29 16:01:49,004]\u001b[0m Trial 16 finished with value: 0.9485982721584773 and parameters: {'max_depth': 6, 'learning_rate': 0.010730378753231832, 'n_estimators': 179, 'min_child_weight': 3, 'gamma': 0.24573956088976093, 'subsample': 0.20478123676487375, 'colsample_bytree': 0.13793512719062387, 'reg_alpha': 0.03804350985277411, 'reg_lambda': 5.288388572543671e-06}. Best is trial 9 with value: 0.964755685094421.\u001b[0m\n"
     ]
    },
    {
     "name": "stderr",
     "output_type": "stream",
     "text": [
      " 90%|█████████ | 18/20 [10:58<01:22, 41.31s/it]"
     ]
    },
    {
     "name": "stdout",
     "output_type": "stream",
     "text": [
      "\u001b[32m[I 2023-07-29 16:02:46,967]\u001b[0m Trial 17 finished with value: 0.9595026816003587 and parameters: {'max_depth': 2, 'learning_rate': 0.026323085645706557, 'n_estimators': 144, 'min_child_weight': 1, 'gamma': 0.0992087604973537, 'subsample': 0.4599998760095123, 'colsample_bytree': 0.9685820069592751, 'reg_alpha': 1.0860185240782047e-05, 'reg_lambda': 0.0011570874751152857}. Best is trial 9 with value: 0.964755685094421.\u001b[0m\n"
     ]
    },
    {
     "name": "stderr",
     "output_type": "stream",
     "text": [
      " 95%|█████████▌| 19/20 [11:21<00:35, 35.81s/it]"
     ]
    },
    {
     "name": "stdout",
     "output_type": "stream",
     "text": [
      "\u001b[32m[I 2023-07-29 16:03:09,959]\u001b[0m Trial 18 finished with value: 0.9593535265929025 and parameters: {'max_depth': 8, 'learning_rate': 0.1406912996646843, 'n_estimators': 158, 'min_child_weight': 6, 'gamma': 0.0006171975168749605, 'subsample': 0.07812536194101027, 'colsample_bytree': 0.05467657984158565, 'reg_alpha': 2.1266530987635534e-06, 'reg_lambda': 2.130275029706664e-05}. Best is trial 9 with value: 0.964755685094421.\u001b[0m\n"
     ]
    },
    {
     "name": "stderr",
     "output_type": "stream",
     "text": [
      "100%|██████████| 20/20 [11:37<00:00, 34.87s/it]"
     ]
    },
    {
     "name": "stdout",
     "output_type": "stream",
     "text": [
      "\u001b[32m[I 2023-07-29 16:03:25,856]\u001b[0m Trial 19 finished with value: 0.946143475378891 and parameters: {'max_depth': 5, 'learning_rate': 0.07836682101500457, 'n_estimators': 134, 'min_child_weight': 4, 'gamma': 5.5629048636818896e-06, 'subsample': 0.14647203919435023, 'colsample_bytree': 0.028763249506415338, 'reg_alpha': 1.886671460748577e-08, 'reg_lambda': 1.7343829099895859e-06}. Best is trial 9 with value: 0.964755685094421.\u001b[0m\n"
     ]
    },
    {
     "name": "stderr",
     "output_type": "stream",
     "text": [
      "\n"
     ]
    }
   ],
   "source": [
    "study.optimize(objective, n_trials=20, show_progress_bar=True)"
   ]
  },
  {
   "cell_type": "code",
   "execution_count": 54,
   "id": "87503bfd-73ab-48ef-90f4-0ebe608a7be5",
   "metadata": {},
   "outputs": [
    {
     "name": "stdout",
     "output_type": "stream",
     "text": [
      "Number of finished trials: 20\n",
      "Best trial:\n",
      "  Value: 0.964755685094421\n",
      "  Params: \n",
      "    max_depth: 7\n",
      "    learning_rate: 0.04792315935319239\n",
      "    n_estimators: 166\n",
      "    min_child_weight: 3\n",
      "    gamma: 0.009890233036480074\n",
      "    subsample: 0.19143909966083675\n",
      "    colsample_bytree: 0.3800313503082633\n",
      "    reg_alpha: 5.869500843986939e-05\n",
      "    reg_lambda: 4.002309577986125e-06\n"
     ]
    }
   ],
   "source": [
    "print('Number of finished trials: {}'.format(len(study.trials)))\n",
    "print('Best trial:')\n",
    "trial = study.best_trial\n",
    "\n",
    "print('  Value: {}'.format(trial.value))\n",
    "print('  Params: ')\n",
    "\n",
    "for key, value in trial.params.items():\n",
    "    print('    {}: {}'.format(key, value))"
   ]
  },
  {
   "cell_type": "code",
   "execution_count": 57,
   "id": "171c2847-32c5-442f-876a-845d3023ddcc",
   "metadata": {},
   "outputs": [],
   "source": [
    "params = trial.params"
   ]
  },
  {
   "cell_type": "code",
   "execution_count": 58,
   "id": "6b43e2ea-9a29-456f-b321-8c57fad6b73e",
   "metadata": {},
   "outputs": [
    {
     "name": "stdout",
     "output_type": "stream",
     "text": [
      "[19:44:31] WARNING: ../src/learner.cc:1115: Starting in XGBoost 1.3.0, the default evaluation metric used with the objective 'binary:logistic' was changed from 'error' to 'logloss'. Explicitly set eval_metric if you'd like to restore the old behavior.\n"
     ]
    },
    {
     "data": {
      "text/plain": [
       "XGBClassifier(base_score=0.5, booster='gbtree', colsample_bylevel=1,\n",
       "              colsample_bynode=1, colsample_bytree=0.3800313503082633,\n",
       "              enable_categorical=False, gamma=0.009890233036480074, gpu_id=-1,\n",
       "              importance_type=None, interaction_constraints='',\n",
       "              learning_rate=0.04792315935319239, max_delta_step=0, max_depth=7,\n",
       "              min_child_weight=3, missing=nan, monotone_constraints='()',\n",
       "              n_estimators=166, n_jobs=8, num_parallel_tree=1, predictor='auto',\n",
       "              random_state=0, reg_alpha=5.869500843986939e-05,\n",
       "              reg_lambda=4.002309577986125e-06, scale_pos_weight=1,\n",
       "              subsample=0.19143909966083675, tree_method='exact',\n",
       "              validate_parameters=1, verbosity=None)"
      ]
     },
     "execution_count": 58,
     "metadata": {},
     "output_type": "execute_result"
    }
   ],
   "source": [
    "AT_XGB_Model = XGBClassifier(**params, n_jobs = 8)\n",
    "AT_XGB_Model.fit(AT_X_train, AT_Y_train)"
   ]
  },
  {
   "cell_type": "code",
   "execution_count": 60,
   "id": "d78b5849-266f-4131-9bc9-ae7b5d3d60c6",
   "metadata": {},
   "outputs": [],
   "source": [
    "AT_XGB_Model.save_model(\"AT_XGB_Model.json\")"
   ]
  },
  {
   "cell_type": "code",
   "execution_count": 55,
   "id": "10c654b5-9e3d-4460-a14a-6827fa775414",
   "metadata": {
    "collapsed": true,
    "jupyter": {
     "outputs_hidden": true
    },
    "tags": []
   },
   "outputs": [
    {
     "ename": "OSError",
     "evalue": "[Errno 122] Disk quota exceeded",
     "output_type": "error",
     "traceback": [
      "\u001b[0;31m---------------------------------------------------------------------------\u001b[0m",
      "\u001b[0;31mOSError\u001b[0m                                   Traceback (most recent call last)",
      "\u001b[0;32m<ipython-input-55-0d0188324dd6>\u001b[0m in \u001b[0;36m<module>\u001b[0;34m\u001b[0m\n\u001b[1;32m      6\u001b[0m \u001b[0mAT_X_test3\u001b[0m\u001b[0;34m.\u001b[0m\u001b[0mto_pickle\u001b[0m\u001b[0;34m(\u001b[0m\u001b[0;34m'./AT_X_test3.pickle'\u001b[0m\u001b[0;34m)\u001b[0m\u001b[0;34m\u001b[0m\u001b[0;34m\u001b[0m\u001b[0m\n\u001b[1;32m      7\u001b[0m \u001b[0mAT_X_test4\u001b[0m \u001b[0;34m=\u001b[0m \u001b[0mAT_X_test\u001b[0m\u001b[0;34m.\u001b[0m\u001b[0miloc\u001b[0m\u001b[0;34m[\u001b[0m\u001b[0;36m2400000\u001b[0m\u001b[0;34m:\u001b[0m\u001b[0;34m,\u001b[0m\u001b[0;34m:\u001b[0m\u001b[0;34m]\u001b[0m\u001b[0;34m\u001b[0m\u001b[0;34m\u001b[0m\u001b[0m\n\u001b[0;32m----> 8\u001b[0;31m \u001b[0mAT_X_test4\u001b[0m\u001b[0;34m.\u001b[0m\u001b[0mto_pickle\u001b[0m\u001b[0;34m(\u001b[0m\u001b[0;34m'./AT_X_test4.pickle'\u001b[0m\u001b[0;34m)\u001b[0m\u001b[0;34m\u001b[0m\u001b[0;34m\u001b[0m\u001b[0m\n\u001b[0m",
      "\u001b[0;32m/z/home/fb007798/environment/lib/python3.6/site-packages/pandas/core/generic.py\u001b[0m in \u001b[0;36mto_pickle\u001b[0;34m(self, path, compression, protocol)\u001b[0m\n\u001b[1;32m   2674\u001b[0m         \u001b[0;32mfrom\u001b[0m \u001b[0mpandas\u001b[0m\u001b[0;34m.\u001b[0m\u001b[0mio\u001b[0m\u001b[0;34m.\u001b[0m\u001b[0mpickle\u001b[0m \u001b[0;32mimport\u001b[0m \u001b[0mto_pickle\u001b[0m\u001b[0;34m\u001b[0m\u001b[0;34m\u001b[0m\u001b[0m\n\u001b[1;32m   2675\u001b[0m \u001b[0;34m\u001b[0m\u001b[0m\n\u001b[0;32m-> 2676\u001b[0;31m         \u001b[0mto_pickle\u001b[0m\u001b[0;34m(\u001b[0m\u001b[0mself\u001b[0m\u001b[0;34m,\u001b[0m \u001b[0mpath\u001b[0m\u001b[0;34m,\u001b[0m \u001b[0mcompression\u001b[0m\u001b[0;34m=\u001b[0m\u001b[0mcompression\u001b[0m\u001b[0;34m,\u001b[0m \u001b[0mprotocol\u001b[0m\u001b[0;34m=\u001b[0m\u001b[0mprotocol\u001b[0m\u001b[0;34m)\u001b[0m\u001b[0;34m\u001b[0m\u001b[0;34m\u001b[0m\u001b[0m\n\u001b[0m\u001b[1;32m   2677\u001b[0m \u001b[0;34m\u001b[0m\u001b[0m\n\u001b[1;32m   2678\u001b[0m     def to_clipboard(\n",
      "\u001b[0;32m/z/home/fb007798/environment/lib/python3.6/site-packages/pandas/io/pickle.py\u001b[0m in \u001b[0;36mto_pickle\u001b[0;34m(obj, filepath_or_buffer, compression, protocol)\u001b[0m\n\u001b[1;32m     87\u001b[0m         \u001b[0mf\u001b[0m\u001b[0;34m.\u001b[0m\u001b[0mwrite\u001b[0m\u001b[0;34m(\u001b[0m\u001b[0mpickle\u001b[0m\u001b[0;34m.\u001b[0m\u001b[0mdumps\u001b[0m\u001b[0;34m(\u001b[0m\u001b[0mobj\u001b[0m\u001b[0;34m,\u001b[0m \u001b[0mprotocol\u001b[0m\u001b[0;34m=\u001b[0m\u001b[0mprotocol\u001b[0m\u001b[0;34m)\u001b[0m\u001b[0;34m)\u001b[0m\u001b[0;34m\u001b[0m\u001b[0;34m\u001b[0m\u001b[0m\n\u001b[1;32m     88\u001b[0m     \u001b[0;32mfinally\u001b[0m\u001b[0;34m:\u001b[0m\u001b[0;34m\u001b[0m\u001b[0;34m\u001b[0m\u001b[0m\n\u001b[0;32m---> 89\u001b[0;31m         \u001b[0mf\u001b[0m\u001b[0;34m.\u001b[0m\u001b[0mclose\u001b[0m\u001b[0;34m(\u001b[0m\u001b[0;34m)\u001b[0m\u001b[0;34m\u001b[0m\u001b[0;34m\u001b[0m\u001b[0m\n\u001b[0m\u001b[1;32m     90\u001b[0m         \u001b[0;32mfor\u001b[0m \u001b[0m_f\u001b[0m \u001b[0;32min\u001b[0m \u001b[0mfh\u001b[0m\u001b[0;34m:\u001b[0m\u001b[0;34m\u001b[0m\u001b[0;34m\u001b[0m\u001b[0m\n\u001b[1;32m     91\u001b[0m             \u001b[0m_f\u001b[0m\u001b[0;34m.\u001b[0m\u001b[0mclose\u001b[0m\u001b[0;34m(\u001b[0m\u001b[0;34m)\u001b[0m\u001b[0;34m\u001b[0m\u001b[0;34m\u001b[0m\u001b[0m\n",
      "\u001b[0;31mOSError\u001b[0m: [Errno 122] Disk quota exceeded"
     ]
    }
   ],
   "source": [
    "AT_X_test1 = AT_X_test.iloc[:800000,:]\n",
    "AT_X_test1.to_pickle('./AT_X_test1.pickle')\n",
    "AT_X_test2 = AT_X_test.iloc[800000:1600000,:]\n",
    "AT_X_test2.to_pickle('./AT_X_test2.pickle')\n",
    "AT_X_test3 = AT_X_test.iloc[1600000:2400000,:]\n",
    "AT_X_test3.to_pickle('./AT_X_test3.pickle')\n",
    "AT_X_test4 = AT_X_test.iloc[2400000:,:]\n",
    "AT_X_test4.to_pickle('./AT_X_test4.pickle')"
   ]
  },
  {
   "cell_type": "code",
   "execution_count": 61,
   "id": "45fec67b-04b9-437b-910e-01dbcd05fe23",
   "metadata": {},
   "outputs": [],
   "source": [
    "Y_Prediction1 = pd.DataFrame(AT_XGB_Model.predict_proba(AT_X_test1), index = AT_X_test1.index, columns = [\"0\", \"1\"])\n",
    "Y_Prediction2 = pd.DataFrame(AT_XGB_Model.predict_proba(AT_X_test2), index = AT_X_test2.index, columns = [\"0\", \"1\"])\n",
    "Y_Prediction3 = pd.DataFrame(AT_XGB_Model.predict_proba(AT_X_test3), index = AT_X_test3.index, columns = [\"0\", \"1\"])\n",
    "Y_Prediction4 = pd.DataFrame(AT_XGB_Model.predict_proba(AT_X_test4), index = AT_X_test4.index, columns = [\"0\", \"1\"])"
   ]
  },
  {
   "cell_type": "code",
   "execution_count": 62,
   "id": "fc88a789-a9f8-4c0b-b393-dd83bb0180ab",
   "metadata": {},
   "outputs": [],
   "source": [
    "AT_Y_Prediction = pd.concat([Y_Prediction1, Y_Prediction2, Y_Prediction3, Y_Prediction4], axis = 0)"
   ]
  },
  {
   "cell_type": "code",
   "execution_count": 63,
   "id": "f4570f29-0382-4264-bffb-c2923b1cc15c",
   "metadata": {},
   "outputs": [],
   "source": [
    "AT_Y_Prediction[\"TARGET\"] = AT_Y_test\n",
    "AT_Y_Prediction = AT_Y_Prediction.sort_values(by = \"1\", ascending = False)"
   ]
  },
  {
   "cell_type": "code",
   "execution_count": 64,
   "id": "012b910d-c94f-45e3-a41d-b94df21607dd",
   "metadata": {},
   "outputs": [],
   "source": [
    "AT_Y_Prediction.to_pickle('./AT_Y_Prediction.pickle')"
   ]
  },
  {
   "cell_type": "code",
   "execution_count": 68,
   "id": "57f7da1f-6d38-44d5-9ad8-1a6ebcde3a6d",
   "metadata": {
    "tags": []
   },
   "outputs": [],
   "source": [
    "def custcounter(sorted_actual):\n",
    "    sorted_actual['FXDURUMU'] = sorted_actual['TARGET']\n",
    "    ratio = sorted_actual[sorted_actual['FXDURUMU']==1]['FXDURUMU'].count()*100/sorted_actual.shape[0]\n",
    "    print('---------------------------------')\n",
    "    print('Total customer count:' , sorted_actual.shape[0])\n",
    "    print('Total BORSA Users:' , sorted_actual[sorted_actual['FXDURUMU']==1]['FXDURUMU'].count() )\n",
    "    print('Total ratio:', ratio)\n",
    "    print('---------------------------------')\n",
    "    print('First 1000 customers: {}, The Lift Ratio of First 1000 customers: {}, Correct Number of Preds: {}'.format(sorted_actual[:1000][sorted_actual['FXDURUMU']==1]['FXDURUMU'].count()*100/1000, sorted_actual[:1000][sorted_actual['FXDURUMU']==1]['FXDURUMU'].count()*100/1000/ratio, sorted_actual[:1000][sorted_actual['FXDURUMU']==1]['FXDURUMU'].count()))\n",
    "    print('First 5k customers: {}, The Lift Ratio of First 5k customers: {}, Correct Number of Preds: {}'.format(sorted_actual[:5000][sorted_actual['FXDURUMU']==1]['FXDURUMU'].count()*100/5000, sorted_actual[:5000][sorted_actual['FXDURUMU']==1]['FXDURUMU'].count()*100/5000/ratio, sorted_actual[:5000][sorted_actual['FXDURUMU']==1]['FXDURUMU'].count()))\n",
    "    print('First 10k customers: {}, The Lift Ratio of First 10k customers: {}, Correct Number of Preds: {}'.format(sorted_actual[:10000][sorted_actual['FXDURUMU']==1]['FXDURUMU'].count()*100/10000, sorted_actual[:10000][sorted_actual['FXDURUMU']==1]['FXDURUMU'].count()*100/10000/ratio, sorted_actual[:10000][sorted_actual['FXDURUMU']==1]['FXDURUMU'].count()))\n",
    "    print('First 20k customers: {}, The Lift Ratio of First 20k customers: {}, Correct Number of Preds: {}'.format(sorted_actual[:20000][sorted_actual['FXDURUMU']==1]['FXDURUMU'].count()*100/20000, sorted_actual[:20000][sorted_actual['FXDURUMU']==1]['FXDURUMU'].count()*100/20000/ratio, sorted_actual[:20000][sorted_actual['FXDURUMU']==1]['FXDURUMU'].count()))\n",
    "    print('First 25k customers: {}, The Lift Ratio of First 25k customers: {}, Correct Number of Preds: {}'.format(sorted_actual[:25000][sorted_actual['FXDURUMU']==1]['FXDURUMU'].count()*100/25000, sorted_actual[:25000][sorted_actual['FXDURUMU']==1]['FXDURUMU'].count()*100/25000/ratio, sorted_actual[:25000][sorted_actual['FXDURUMU']==1]['FXDURUMU'].count()))\n",
    "    print('First 30k customers: {}, The Lift Ratio of First 30k customers: {}, Correct Number of Preds: {}'.format(sorted_actual[:30000][sorted_actual['FXDURUMU']==1]['FXDURUMU'].count()*100/30000, sorted_actual[:30000][sorted_actual['FXDURUMU']==1]['FXDURUMU'].count()*100/30000/ratio, sorted_actual[:30000][sorted_actual['FXDURUMU']==1]['FXDURUMU'].count()))\n",
    "    print('First 40k customers: {}, The Lift Ratio of First 40k customers: {}, Correct Number of Preds: {}'.format(sorted_actual[:40000][sorted_actual['FXDURUMU']==1]['FXDURUMU'].count()*100/40000, sorted_actual[:40000][sorted_actual['FXDURUMU']==1]['FXDURUMU'].count()*100/40000/ratio, sorted_actual[:40000][sorted_actual['FXDURUMU']==1]['FXDURUMU'].count()))\n",
    "    print('First 50k customers: {}, The Lift Ratio of First 50k customers: {}, Correct Number of Preds: {}'.format(sorted_actual[:50000][sorted_actual['FXDURUMU']==1]['FXDURUMU'].count()*100/50000, sorted_actual[:50000][sorted_actual['FXDURUMU']==1]['FXDURUMU'].count()*100/50000/ratio, sorted_actual[:50000][sorted_actual['FXDURUMU']==1]['FXDURUMU'].count()))\n",
    "    print('First 500k customers: {}, The Lift Ratio of First 500k customers: {}, Correct Number of Preds: {}'.format(sorted_actual[:500000][sorted_actual['FXDURUMU']==1]['FXDURUMU'].count()*100/500000, sorted_actual[:500000][sorted_actual['FXDURUMU']==1]['FXDURUMU'].count()*100/500000/ratio, sorted_actual[:500000][sorted_actual['FXDURUMU']==1]['FXDURUMU'].count()))    "
   ]
  },
  {
   "cell_type": "code",
   "execution_count": 66,
   "id": "d076b132-5d42-4268-af9b-fa5021a5b6b2",
   "metadata": {
    "tags": []
   },
   "outputs": [],
   "source": [
    "def probbincounter(sortedpreds, y_test):\n",
    "    print('---------------------------------')\n",
    "    # print(\"Above 90th percent of Predictions: {}, Compared to Actual Transactions: {}\".format(len(sortedpreds[sortedpreds>.90]), int((y_pairs[pair][1].reindex(list(sortedpreds[sortedpreds>.90].index))==1).sum())))\n",
    "\n",
    "    if len(sortedpreds[(sortedpreds>.90)&(sortedpreds<=1)])>0:\n",
    "        print(\"Between 90th and 100th prob. of Predictions: {}, Compared to Actual Transactions: {}, Accuracy out of 100: {}\".format(len(sortedpreds[(sortedpreds>.90)&(sortedpreds<=1)]), int((y_test.reindex(list(sortedpreds[(sortedpreds>.90)&(sortedpreds<=1)].index))==1).sum()), 100*(int((y_test.reindex(list(sortedpreds[(sortedpreds>.90)&(sortedpreds<=1)].index))==1).sum())) / (len(sortedpreds[(sortedpreds>.90)&(sortedpreds<=1)])) ))\n",
    "    else:\n",
    "        print(\"Between 90th and 100th prob. of Predictions: {}, Compared to Actual Transactions: {}\".format(len(sortedpreds[(sortedpreds>.90)&(sortedpreds<=1)]), int((y_test.reindex(list(sortedpreds[(sortedpreds>.90)&(sortedpreds<=1)].index))==1).sum())))\n",
    "  \n",
    "    \n",
    "    if len(sortedpreds[(sortedpreds>.80)&(sortedpreds<=.90)])>0:\n",
    "        print(\"Between 80th and 90th prob. of Predictions: {}, Compared to Actual Transactions: {}, Accuracy out of 100: {}\".format(len(sortedpreds[(sortedpreds>.80)&(sortedpreds<=.90)]), int((y_test.reindex(list(sortedpreds[(sortedpreds>.80)&(sortedpreds<=.90)].index))==1).sum()), 100*(int((y_test.reindex(list(sortedpreds[(sortedpreds>.80)&(sortedpreds<=.90)].index))==1).sum())) / (len(sortedpreds[(sortedpreds>.80)&(sortedpreds<=.90)])) ))\n",
    "    else:\n",
    "        print(\"Between 80th and 90th prob. of Predictions: {}, Compared to Actual Transactions: {}\".format(len(sortedpreds[(sortedpreds>.80)&(sortedpreds<=.90)]), int((y_test.reindex(list(sortedpreds[(sortedpreds>.80)&(sortedpreds<=.90)].index))==1).sum())))\n",
    "    \n",
    "    if len(sortedpreds[(sortedpreds>.70)&(sortedpreds<=.80)])>0:    \n",
    "        print(\"Between 70th and 80th prob. of Predictions: {}, Compared to Actual Transactions: {}, Accuracy out of 100: {}\".format(len(sortedpreds[(sortedpreds>.70)&(sortedpreds<=.80)]), int((y_test.reindex(list(sortedpreds[(sortedpreds>.70)&(sortedpreds<=.80)].index))==1).sum()), 100*(int((y_test.reindex(list(sortedpreds[(sortedpreds>.70)&(sortedpreds<=.80)].index))==1).sum())) / (len(sortedpreds[(sortedpreds>.70)&(sortedpreds<=.80)]))))\n",
    "    else:\n",
    "        print(\"Between 70th and 80th prob. of Predictions: {}, Compared to Actual Transactions: {}\".format(len(sortedpreds[(sortedpreds>.70)&(sortedpreds<=.80)]), int((y_test.reindex(list(sortedpreds[(sortedpreds>.70)&(sortedpreds<=.80)].index))==1).sum())))\n",
    "    \n",
    "    if len(sortedpreds[(sortedpreds>.60)&(sortedpreds<=.70)])>0:    \n",
    "        print(\"Between 60th and 70th prob. of Predictions: {}, Compared to Actual Transactions: {}, Accuracy out of 100: {}\".format(len(sortedpreds[(sortedpreds>.60)&(sortedpreds<=.70)]), int((y_test.reindex(list(sortedpreds[(sortedpreds>.60)&(sortedpreds<=.70)].index))==1).sum()), 100*(int((y_test.reindex(list(sortedpreds[(sortedpreds>.60)&(sortedpreds<=.70)].index))==1).sum())) / (len(sortedpreds[(sortedpreds>.60)&(sortedpreds<=.70)]))))\n",
    "    else:\n",
    "        print(\"Between 60th and 70th prob. of Predictions: {}, Compared to Actual Transactions: {}\".format(len(sortedpreds[(sortedpreds>.60)&(sortedpreds<=.70)]), int((y_test.reindex(list(sortedpreds[(sortedpreds>.60)&(sortedpreds<=.70)].index))==1).sum())))\n",
    "    \n",
    "    if len(sortedpreds[(sortedpreds>.50)&(sortedpreds<=.60)])>0: \n",
    "        print(\"Between 50th and 60th prob. of Predictions: {}, Compared to Actual Transactions: {}, Accuracy out of 100: {}\".format(len(sortedpreds[(sortedpreds>.50)&(sortedpreds<=.60)]), int((y_test.reindex(list(sortedpreds[(sortedpreds>.50)&(sortedpreds<=.60)].index))==1).sum()), 100*(int((y_test.reindex(list(sortedpreds[(sortedpreds>.50)&(sortedpreds<=.60)].index))==1).sum())) / (len(sortedpreds[(sortedpreds>.50)&(sortedpreds<=.60)]))))\n",
    "    else:\n",
    "        print(\"Between 50th and 60th prob. of Predictions: {}, Compared to Actual Transactions: {}\".format(len(sortedpreds[(sortedpreds>.50)&(sortedpreds<=.60)]), int((y_test.reindex(list(sortedpreds[(sortedpreds>.50)&(sortedpreds<=.60)].index))==1).sum())))\n",
    "        \n",
    "    if len(sortedpreds[(sortedpreds>.40)&(sortedpreds<=.50)])>0: \n",
    "        print(\"Between 40th and 50th prob. of Predictions: {}, Compared to Actual Transactions: {}, Accuracy out of 100: {}\".format(len(sortedpreds[(sortedpreds>.40)&(sortedpreds<=.50)]), int((y_test.reindex(list(sortedpreds[(sortedpreds>.40)&(sortedpreds<=.50)].index))==1).sum()), 100*(int((y_test.reindex(list(sortedpreds[(sortedpreds>.40)&(sortedpreds<=.50)].index))==1).sum())) / (len(sortedpreds[(sortedpreds>.40)&(sortedpreds<=.50)]))))\n",
    "    else:\n",
    "        print(\"Between 40th and 50th prob. of Predictions: {}, Compared to Actual Transactions: {}\".format(len(sortedpreds[(sortedpreds>.40)&(sortedpreds<=.50)]), int((y_test.reindex(list(sortedpreds[(sortedpreds>.40)&(sortedpreds<=.50)].index))==1).sum())))\n",
    "\n",
    "    if len(sortedpreds[(sortedpreds>.30)&(sortedpreds<=.40)])>0:     \n",
    "        print(\"Between 30th and 40th prob. of Predictions: {}, Compared to Actual Transactions: {}, Accuracy out of 100: {}\".format(len(sortedpreds[(sortedpreds>.30)&(sortedpreds<=.40)]), int((y_test.reindex(list(sortedpreds[(sortedpreds>.30)&(sortedpreds<=.40)].index))==1).sum()), 100*(int((y_test.reindex(list(sortedpreds[(sortedpreds>.30)&(sortedpreds<=.40)].index))==1).sum())) / (len(sortedpreds[(sortedpreds>.30)&(sortedpreds<=.40)]))))\n",
    "    else:\n",
    "        print(\"Between 30th and 40th prob. of Predictions: {}, Compared to Actual Transactions: {}\".format(len(sortedpreds[(sortedpreds>.30)&(sortedpreds<=.40)]), int((y_test.reindex(list(sortedpreds[(sortedpreds>.30)&(sortedpreds<=.40)].index))==1).sum())))\n",
    "        \n",
    "    if len(sortedpreds[(sortedpreds>.20)&(sortedpreds<=.30)])>0: \n",
    "        print(\"Between 20th and 30th prob. of Predictions: {}, Compared to Actual Transactions: {}, Accuracy out of 100: {}\".format(len(sortedpreds[(sortedpreds>.20)&(sortedpreds<=.30)]), int((y_test.reindex(list(sortedpreds[(sortedpreds>.20)&(sortedpreds<=.30)].index))==1).sum()), 100*(int((y_test.reindex(list(sortedpreds[(sortedpreds>.20)&(sortedpreds<=.30)].index))==1).sum())) / (len(sortedpreds[(sortedpreds>.20)&(sortedpreds<=.30)]))))\n",
    "    else:\n",
    "        print(\"Between 20th and 30th prob. of Predictions: {}, Compared to Actual Transactions: {}\".format(len(sortedpreds[(sortedpreds>.20)&(sortedpreds<=.30)]), int((y_test.reindex(list(sortedpreds[(sortedpreds>.20)&(sortedpreds<=.30)].index))==1).sum())))\n",
    "        \n",
    "    if len(sortedpreds[(sortedpreds>.10)&(sortedpreds<=.20)])>0:\n",
    "        print(\"Between 10th and 20th prob. of Predictions: {}, Compared to Actual Transactions: {}, Accuracy out of 100: {}\".format(len(sortedpreds[ (sortedpreds>.10)&(sortedpreds<=.20)]), int((y_test.reindex(list(sortedpreds[(sortedpreds> .10)&(sortedpreds<=.20)].index))==1).sum()), 100*(int((y_test.reindex(list(sortedpreds[(sortedpreds> .10)&(sortedpreds<=.20)].index))==1).sum())) / (len(sortedpreds[(sortedpreds> .10)&(sortedpreds<=.20)]))))\n",
    "    else:\n",
    "        print(\"Between 10th and 20th prob. of Predictions: {}, Compared to Actual Transactions: {}\".format(len(sortedpreds[ (sortedpreds>.10)&(sortedpreds<=.20)]), int((y_test.reindex(list(sortedpreds[(sortedpreds> .10)&(sortedpreds<=.20)].index))==1).sum())))\n",
    "        \n",
    "    if len(sortedpreds[(sortedpreds>.0)&(sortedpreds<=.10)])>0:    \n",
    "        print(\"Between  0th and 10th prob. of Predictions: {}, Compared to Actual Transactions: {}, Accuracy out of 100: {}\".format(len(sortedpreds[ (sortedpreds>=.0)&(sortedpreds<=.10)]), int((y_test.reindex(list(sortedpreds[(sortedpreds> .0)&(sortedpreds<=.10)].index))==1).sum()), 100*(int((y_test.reindex(list(sortedpreds[(sortedpreds>= .0)&(sortedpreds<=.10)].index))==1).sum())) / (len(sortedpreds[(sortedpreds>= .0)&(sortedpreds<=.10)]))))\n",
    "    else:\n",
    "        print(\"Between  0th and 10th prob. of Predictions: {}, Compared to Actual Transactions: {}\".format(len(sortedpreds[ (sortedpreds>=.0)&(sortedpreds<=.10)]), int((y_test.reindex(list(sortedpreds[(sortedpreds>= .0)&(sortedpreds<=.10)].index))==1).sum())))    "
   ]
  },
  {
   "cell_type": "code",
   "execution_count": 69,
   "id": "a6db2ac1-dce2-4bf4-98eb-4c133effbd03",
   "metadata": {},
   "outputs": [
    {
     "name": "stdout",
     "output_type": "stream",
     "text": [
      "---------------------------------\n",
      "Total customer count: 3133870\n",
      "Total BORSA Users: 13709\n",
      "Total ratio: 0.4374463522737063\n",
      "---------------------------------\n",
      "First 1000 customers: 96.4, The Lift Ratio of First 1000 customers: 220.36987964111168, Correct Number of Preds: 964\n",
      "First 5k customers: 88.8, The Lift Ratio of First 5k customers: 202.9963206652564, Correct Number of Preds: 4440\n",
      "First 10k customers: 75.81, The Lift Ratio of First 10k customers: 173.3012507841564, Correct Number of Preds: 7581\n",
      "First 20k customers: 53.915, The Lift Ratio of First 20k customers: 123.24939897147858, Correct Number of Preds: 10783\n",
      "First 25k customers: 45.716, The Lift Ratio of First 25k customers: 104.50652922897366, Correct Number of Preds: 11429\n",
      "First 30k customers: 39.18666666666667, The Lift Ratio of First 30k customers: 89.58050847375203, Correct Number of Preds: 11756\n",
      "First 40k customers: 30.2325, The Lift Ratio of First 40k customers: 69.11133180757167, Correct Number of Preds: 12093\n",
      "First 50k customers: 24.558, The Lift Ratio of First 50k customers: 56.13945543803341, Correct Number of Preds: 12279\n",
      "First 500k customers: 2.7004, The Lift Ratio of First 500k customers: 6.17309982347363, Correct Number of Preds: 13502\n"
     ]
    }
   ],
   "source": [
    "custcounter(AT_Y_Prediction)"
   ]
  },
  {
   "cell_type": "code",
   "execution_count": 70,
   "id": "e66786af-fafc-413e-872b-f51f8a2096da",
   "metadata": {},
   "outputs": [
    {
     "name": "stdout",
     "output_type": "stream",
     "text": [
      "---------------------------------\n",
      "Between 90th and 100th prob. of Predictions: 21366, Compared to Actual Transactions: 10990, Accuracy out of 100: 51.43686230459609\n",
      "Between 80th and 90th prob. of Predictions: 7744, Compared to Actual Transactions: 727, Accuracy out of 100: 9.387913223140496\n",
      "Between 70th and 80th prob. of Predictions: 8793, Compared to Actual Transactions: 324, Accuracy out of 100: 3.68474923234391\n",
      "Between 60th and 70th prob. of Predictions: 10451, Compared to Actual Transactions: 217, Accuracy out of 100: 2.0763563295378433\n",
      "Between 50th and 60th prob. of Predictions: 11989, Compared to Actual Transactions: 170, Accuracy out of 100: 1.4179664692634915\n",
      "Between 40th and 50th prob. of Predictions: 14333, Compared to Actual Transactions: 168, Accuracy out of 100: 1.1721202818670202\n",
      "Between 30th and 40th prob. of Predictions: 18622, Compared to Actual Transactions: 149, Accuracy out of 100: 0.8001288798195683\n",
      "Between 20th and 30th prob. of Predictions: 27550, Compared to Actual Transactions: 194, Accuracy out of 100: 0.7041742286751361\n",
      "Between 10th and 20th prob. of Predictions: 57927, Compared to Actual Transactions: 217, Accuracy out of 100: 0.3746094222038082\n",
      "Between  0th and 10th prob. of Predictions: 2955095, Compared to Actual Transactions: 553, Accuracy out of 100: 0.01871344237664102\n"
     ]
    }
   ],
   "source": [
    "probbincounter(AT_Y_Prediction[\"1\"], AT_Y_Prediction[\"TARGET\"])"
   ]
  },
  {
   "cell_type": "code",
   "execution_count": 2,
   "id": "3aa267a7-7544-40ca-a116-afeeafc11562",
   "metadata": {},
   "outputs": [],
   "source": [
    "AT_X_test1 = pd.read_pickle('./AT_X_test1.pickle')\n",
    "AT_X_test2 = pd.read_pickle('./AT_X_test2.pickle')\n",
    "AT_X_test3 = pd.read_pickle('./AT_X_test3.pickle')\n",
    "AT_X_test4 = pd.read_pickle('./AT_X_test4.pickle')"
   ]
  },
  {
   "cell_type": "code",
   "execution_count": 4,
   "id": "8e46ac31-1604-483b-967a-72ab08bbcc53",
   "metadata": {},
   "outputs": [],
   "source": [
    "AT_XGB_Model = xgb.XGBClassifier()\n",
    "AT_XGB_Model.load_model(\"AT_XGB_Model.json\")"
   ]
  },
  {
   "cell_type": "code",
   "execution_count": 5,
   "id": "0b4d5755-afb1-49b5-a64e-1f00fec4f90b",
   "metadata": {},
   "outputs": [],
   "source": [
    "explainer = shap.TreeExplainer(AT_XGB_Model)\n",
    "shap_values = explainer.shap_values(AT_X_test1)"
   ]
  },
  {
   "cell_type": "code",
   "execution_count": 6,
   "id": "d5162eaa-ec95-4c22-9347-0eb3ef22a62a",
   "metadata": {},
   "outputs": [
    {
     "data": {
      "image/png": "[encoded data removed]",
      "text/plain": [
       "<Figure size 576x684 with 2 Axes>"
      ]
     },
     "metadata": {
      "needs_background": "light"
     },
     "output_type": "display_data"
    }
   ],
   "source": [
    "shap.summary_plot(shap_values, AT_X_test1)"
   ]
  },
  {
   "cell_type": "code",
   "execution_count": 11,
   "id": "436ba03e-8ce5-4c79-9b6d-6cf378681d58",
   "metadata": {},
   "outputs": [],
   "source": [
    "AT_Y_Prediction = pd.read_pickle('./AT_Y_Prediction.pickle')"
   ]
  },
  {
   "cell_type": "code",
   "execution_count": 12,
   "id": "2508dc96-1bb9-4d13-b2db-b4675c424c70",
   "metadata": {},
   "outputs": [
    {
     "data": {
      "text/html": [
       "<div>\n",
       "<style scoped>\n",
       "    .dataframe tbody tr th:only-of-type {\n",
       "        vertical-align: middle;\n",
       "    }\n",
       "\n",
       "    .dataframe tbody tr th {\n",
       "        vertical-align: top;\n",
       "    }\n",
       "\n",
       "    .dataframe thead th {\n",
       "        text-align: right;\n",
       "    }\n",
       "</style>\n",
       "<table border=\"1\" class=\"dataframe\">\n",
       "  <thead>\n",
       "    <tr style=\"text-align: right;\">\n",
       "      <th></th>\n",
       "      <th>0</th>\n",
       "      <th>1</th>\n",
       "      <th>TARGET</th>\n",
       "    </tr>\n",
       "  </thead>\n",
       "  <tbody>\n",
       "    <tr>\n",
       "      <th>61590682023-06-30</th>\n",
       "      <td>0.000565</td>\n",
       "      <td>0.999435</td>\n",
       "      <td>1</td>\n",
       "    </tr>\n",
       "    <tr>\n",
       "      <th>22317032023-06-30</th>\n",
       "      <td>0.000605</td>\n",
       "      <td>0.999395</td>\n",
       "      <td>1</td>\n",
       "    </tr>\n",
       "    <tr>\n",
       "      <th>59248792023-06-30</th>\n",
       "      <td>0.000626</td>\n",
       "      <td>0.999374</td>\n",
       "      <td>1</td>\n",
       "    </tr>\n",
       "    <tr>\n",
       "      <th>22420722023-06-30</th>\n",
       "      <td>0.000654</td>\n",
       "      <td>0.999346</td>\n",
       "      <td>1</td>\n",
       "    </tr>\n",
       "    <tr>\n",
       "      <th>49006832023-06-30</th>\n",
       "      <td>0.000734</td>\n",
       "      <td>0.999266</td>\n",
       "      <td>1</td>\n",
       "    </tr>\n",
       "    <tr>\n",
       "      <th>...</th>\n",
       "      <td>...</td>\n",
       "      <td>...</td>\n",
       "      <td>...</td>\n",
       "    </tr>\n",
       "    <tr>\n",
       "      <th>10735982023-06-30</th>\n",
       "      <td>0.999335</td>\n",
       "      <td>0.000665</td>\n",
       "      <td>0</td>\n",
       "    </tr>\n",
       "    <tr>\n",
       "      <th>25896422023-06-30</th>\n",
       "      <td>0.999336</td>\n",
       "      <td>0.000664</td>\n",
       "      <td>0</td>\n",
       "    </tr>\n",
       "    <tr>\n",
       "      <th>39129282023-06-30</th>\n",
       "      <td>0.999337</td>\n",
       "      <td>0.000663</td>\n",
       "      <td>0</td>\n",
       "    </tr>\n",
       "    <tr>\n",
       "      <th>31537912023-06-30</th>\n",
       "      <td>0.999339</td>\n",
       "      <td>0.000661</td>\n",
       "      <td>0</td>\n",
       "    </tr>\n",
       "    <tr>\n",
       "      <th>26500612023-06-30</th>\n",
       "      <td>0.999358</td>\n",
       "      <td>0.000642</td>\n",
       "      <td>0</td>\n",
       "    </tr>\n",
       "  </tbody>\n",
       "</table>\n",
       "<p>3133870 rows × 3 columns</p>\n",
       "</div>"
      ],
      "text/plain": [
       "                          0         1  TARGET\n",
       "61590682023-06-30  0.000565  0.999435       1\n",
       "22317032023-06-30  0.000605  0.999395       1\n",
       "59248792023-06-30  0.000626  0.999374       1\n",
       "22420722023-06-30  0.000654  0.999346       1\n",
       "49006832023-06-30  0.000734  0.999266       1\n",
       "...                     ...       ...     ...\n",
       "10735982023-06-30  0.999335  0.000665       0\n",
       "25896422023-06-30  0.999336  0.000664       0\n",
       "39129282023-06-30  0.999337  0.000663       0\n",
       "31537912023-06-30  0.999339  0.000661       0\n",
       "26500612023-06-30  0.999358  0.000642       0\n",
       "\n",
       "[3133870 rows x 3 columns]"
      ]
     },
     "execution_count": 12,
     "metadata": {},
     "output_type": "execute_result"
    }
   ],
   "source": [
    "AT_Y_Prediction"
   ]
  },
  {
   "cell_type": "code",
   "execution_count": 13,
   "id": "43423bf5-c40c-4fbc-b1a9-b4f38a056c5c",
   "metadata": {},
   "outputs": [],
   "source": [
    "AT_Y_Prediction[\"PERC\"] = AT_Y_Prediction[\"1\"].rank(pct = True)"
   ]
  },
  {
   "cell_type": "code",
   "execution_count": 14,
   "id": "bda95338-4377-492e-aa78-c1020f55bc60",
   "metadata": {},
   "outputs": [],
   "source": [
    "AT_Y_Prediction.reset_index(inplace = True)"
   ]
  },
  {
   "cell_type": "code",
   "execution_count": 15,
   "id": "34dc74cd-d3c8-40f8-93e0-4053f8c51858",
   "metadata": {},
   "outputs": [],
   "source": [
    "AT_Y_Prediction.columns = [\"CUSTOMER\", \"ZEROS\", \"ONES\", \"TARGET\", \"PERC\"]"
   ]
  },
  {
   "cell_type": "code",
   "execution_count": 16,
   "id": "2a02600f-6d77-4725-a7b6-6ceabf79378f",
   "metadata": {},
   "outputs": [
    {
     "data": {
      "text/html": [
       "<div>\n",
       "<style scoped>\n",
       "    .dataframe tbody tr th:only-of-type {\n",
       "        vertical-align: middle;\n",
       "    }\n",
       "\n",
       "    .dataframe tbody tr th {\n",
       "        vertical-align: top;\n",
       "    }\n",
       "\n",
       "    .dataframe thead th {\n",
       "        text-align: right;\n",
       "    }\n",
       "</style>\n",
       "<table border=\"1\" class=\"dataframe\">\n",
       "  <thead>\n",
       "    <tr style=\"text-align: right;\">\n",
       "      <th></th>\n",
       "      <th>CUSTOMER</th>\n",
       "      <th>ZEROS</th>\n",
       "      <th>ONES</th>\n",
       "      <th>TARGET</th>\n",
       "      <th>PERC</th>\n",
       "    </tr>\n",
       "  </thead>\n",
       "  <tbody>\n",
       "    <tr>\n",
       "      <th>0</th>\n",
       "      <td>61590682023-06-30</td>\n",
       "      <td>0.000565</td>\n",
       "      <td>0.999435</td>\n",
       "      <td>1</td>\n",
       "      <td>1.000000e+00</td>\n",
       "    </tr>\n",
       "    <tr>\n",
       "      <th>1</th>\n",
       "      <td>22317032023-06-30</td>\n",
       "      <td>0.000605</td>\n",
       "      <td>0.999395</td>\n",
       "      <td>1</td>\n",
       "      <td>9.999997e-01</td>\n",
       "    </tr>\n",
       "    <tr>\n",
       "      <th>2</th>\n",
       "      <td>59248792023-06-30</td>\n",
       "      <td>0.000626</td>\n",
       "      <td>0.999374</td>\n",
       "      <td>1</td>\n",
       "      <td>9.999994e-01</td>\n",
       "    </tr>\n",
       "    <tr>\n",
       "      <th>3</th>\n",
       "      <td>22420722023-06-30</td>\n",
       "      <td>0.000654</td>\n",
       "      <td>0.999346</td>\n",
       "      <td>1</td>\n",
       "      <td>9.999990e-01</td>\n",
       "    </tr>\n",
       "    <tr>\n",
       "      <th>4</th>\n",
       "      <td>49006832023-06-30</td>\n",
       "      <td>0.000734</td>\n",
       "      <td>0.999266</td>\n",
       "      <td>1</td>\n",
       "      <td>9.999987e-01</td>\n",
       "    </tr>\n",
       "    <tr>\n",
       "      <th>...</th>\n",
       "      <td>...</td>\n",
       "      <td>...</td>\n",
       "      <td>...</td>\n",
       "      <td>...</td>\n",
       "      <td>...</td>\n",
       "    </tr>\n",
       "    <tr>\n",
       "      <th>3133865</th>\n",
       "      <td>10735982023-06-30</td>\n",
       "      <td>0.999335</td>\n",
       "      <td>0.000665</td>\n",
       "      <td>0</td>\n",
       "      <td>1.595471e-06</td>\n",
       "    </tr>\n",
       "    <tr>\n",
       "      <th>3133866</th>\n",
       "      <td>25896422023-06-30</td>\n",
       "      <td>0.999336</td>\n",
       "      <td>0.000664</td>\n",
       "      <td>0</td>\n",
       "      <td>1.276377e-06</td>\n",
       "    </tr>\n",
       "    <tr>\n",
       "      <th>3133867</th>\n",
       "      <td>39129282023-06-30</td>\n",
       "      <td>0.999337</td>\n",
       "      <td>0.000663</td>\n",
       "      <td>0</td>\n",
       "      <td>9.572828e-07</td>\n",
       "    </tr>\n",
       "    <tr>\n",
       "      <th>3133868</th>\n",
       "      <td>31537912023-06-30</td>\n",
       "      <td>0.999339</td>\n",
       "      <td>0.000661</td>\n",
       "      <td>0</td>\n",
       "      <td>6.381886e-07</td>\n",
       "    </tr>\n",
       "    <tr>\n",
       "      <th>3133869</th>\n",
       "      <td>26500612023-06-30</td>\n",
       "      <td>0.999358</td>\n",
       "      <td>0.000642</td>\n",
       "      <td>0</td>\n",
       "      <td>3.190943e-07</td>\n",
       "    </tr>\n",
       "  </tbody>\n",
       "</table>\n",
       "<p>3133870 rows × 5 columns</p>\n",
       "</div>"
      ],
      "text/plain": [
       "                  CUSTOMER     ZEROS      ONES  TARGET          PERC\n",
       "0        61590682023-06-30  0.000565  0.999435       1  1.000000e+00\n",
       "1        22317032023-06-30  0.000605  0.999395       1  9.999997e-01\n",
       "2        59248792023-06-30  0.000626  0.999374       1  9.999994e-01\n",
       "3        22420722023-06-30  0.000654  0.999346       1  9.999990e-01\n",
       "4        49006832023-06-30  0.000734  0.999266       1  9.999987e-01\n",
       "...                    ...       ...       ...     ...           ...\n",
       "3133865  10735982023-06-30  0.999335  0.000665       0  1.595471e-06\n",
       "3133866  25896422023-06-30  0.999336  0.000664       0  1.276377e-06\n",
       "3133867  39129282023-06-30  0.999337  0.000663       0  9.572828e-07\n",
       "3133868  31537912023-06-30  0.999339  0.000661       0  6.381886e-07\n",
       "3133869  26500612023-06-30  0.999358  0.000642       0  3.190943e-07\n",
       "\n",
       "[3133870 rows x 5 columns]"
      ]
     },
     "execution_count": 16,
     "metadata": {},
     "output_type": "execute_result"
    }
   ],
   "source": [
    "AT_Y_Prediction"
   ]
  },
  {
   "cell_type": "code",
   "execution_count": 20,
   "id": "a6faf80a-a9ad-472f-9089-0c1eb7ac9701",
   "metadata": {},
   "outputs": [
    {
     "data": {
      "text/html": [
       "<div>\n",
       "<style scoped>\n",
       "    .dataframe tbody tr th:only-of-type {\n",
       "        vertical-align: middle;\n",
       "    }\n",
       "\n",
       "    .dataframe tbody tr th {\n",
       "        vertical-align: top;\n",
       "    }\n",
       "\n",
       "    .dataframe thead th {\n",
       "        text-align: right;\n",
       "    }\n",
       "</style>\n",
       "<table border=\"1\" class=\"dataframe\">\n",
       "  <thead>\n",
       "    <tr style=\"text-align: right;\">\n",
       "      <th></th>\n",
       "      <th>CUSTOMER</th>\n",
       "      <th>ZEROS</th>\n",
       "      <th>ONES</th>\n",
       "      <th>TARGET</th>\n",
       "      <th>PERC</th>\n",
       "    </tr>\n",
       "  </thead>\n",
       "  <tbody>\n",
       "    <tr>\n",
       "      <th>0</th>\n",
       "      <td>61590682023-06-30</td>\n",
       "      <td>0.000565</td>\n",
       "      <td>0.999435</td>\n",
       "      <td>1</td>\n",
       "      <td>1.000000</td>\n",
       "    </tr>\n",
       "    <tr>\n",
       "      <th>1</th>\n",
       "      <td>22317032023-06-30</td>\n",
       "      <td>0.000605</td>\n",
       "      <td>0.999395</td>\n",
       "      <td>1</td>\n",
       "      <td>1.000000</td>\n",
       "    </tr>\n",
       "    <tr>\n",
       "      <th>2</th>\n",
       "      <td>59248792023-06-30</td>\n",
       "      <td>0.000626</td>\n",
       "      <td>0.999374</td>\n",
       "      <td>1</td>\n",
       "      <td>0.999999</td>\n",
       "    </tr>\n",
       "    <tr>\n",
       "      <th>3</th>\n",
       "      <td>22420722023-06-30</td>\n",
       "      <td>0.000654</td>\n",
       "      <td>0.999346</td>\n",
       "      <td>1</td>\n",
       "      <td>0.999999</td>\n",
       "    </tr>\n",
       "    <tr>\n",
       "      <th>4</th>\n",
       "      <td>49006832023-06-30</td>\n",
       "      <td>0.000734</td>\n",
       "      <td>0.999266</td>\n",
       "      <td>1</td>\n",
       "      <td>0.999999</td>\n",
       "    </tr>\n",
       "    <tr>\n",
       "      <th>...</th>\n",
       "      <td>...</td>\n",
       "      <td>...</td>\n",
       "      <td>...</td>\n",
       "      <td>...</td>\n",
       "      <td>...</td>\n",
       "    </tr>\n",
       "    <tr>\n",
       "      <th>303807</th>\n",
       "      <td>43902792023-06-30</td>\n",
       "      <td>0.958994</td>\n",
       "      <td>0.041006</td>\n",
       "      <td>1</td>\n",
       "      <td>0.903057</td>\n",
       "    </tr>\n",
       "    <tr>\n",
       "      <th>305293</th>\n",
       "      <td>43979082023-06-30</td>\n",
       "      <td>0.959299</td>\n",
       "      <td>0.040701</td>\n",
       "      <td>1</td>\n",
       "      <td>0.902583</td>\n",
       "    </tr>\n",
       "    <tr>\n",
       "      <th>309325</th>\n",
       "      <td>40798572023-06-30</td>\n",
       "      <td>0.960115</td>\n",
       "      <td>0.039885</td>\n",
       "      <td>1</td>\n",
       "      <td>0.901296</td>\n",
       "    </tr>\n",
       "    <tr>\n",
       "      <th>312061</th>\n",
       "      <td>47266032023-06-30</td>\n",
       "      <td>0.960637</td>\n",
       "      <td>0.039363</td>\n",
       "      <td>1</td>\n",
       "      <td>0.900423</td>\n",
       "    </tr>\n",
       "    <tr>\n",
       "      <th>312737</th>\n",
       "      <td>20657422023-06-30</td>\n",
       "      <td>0.960775</td>\n",
       "      <td>0.039225</td>\n",
       "      <td>1</td>\n",
       "      <td>0.900207</td>\n",
       "    </tr>\n",
       "  </tbody>\n",
       "</table>\n",
       "<p>13375 rows × 5 columns</p>\n",
       "</div>"
      ],
      "text/plain": [
       "                 CUSTOMER     ZEROS      ONES  TARGET      PERC\n",
       "0       61590682023-06-30  0.000565  0.999435       1  1.000000\n",
       "1       22317032023-06-30  0.000605  0.999395       1  1.000000\n",
       "2       59248792023-06-30  0.000626  0.999374       1  0.999999\n",
       "3       22420722023-06-30  0.000654  0.999346       1  0.999999\n",
       "4       49006832023-06-30  0.000734  0.999266       1  0.999999\n",
       "...                   ...       ...       ...     ...       ...\n",
       "303807  43902792023-06-30  0.958994  0.041006       1  0.903057\n",
       "305293  43979082023-06-30  0.959299  0.040701       1  0.902583\n",
       "309325  40798572023-06-30  0.960115  0.039885       1  0.901296\n",
       "312061  47266032023-06-30  0.960637  0.039363       1  0.900423\n",
       "312737  20657422023-06-30  0.960775  0.039225       1  0.900207\n",
       "\n",
       "[13375 rows x 5 columns]"
      ]
     },
     "execution_count": 20,
     "metadata": {},
     "output_type": "execute_result"
    }
   ],
   "source": [
    "AT_Y_Prediction[(AT_Y_Prediction['PERC']>0.90) & (AT_Y_Prediction['TARGET']==1)]"
   ]
  },
  {
   "cell_type": "code",
   "execution_count": 37,
   "id": "6906c7b1-e6f0-45f5-b0e8-51f8ffdb5cc8",
   "metadata": {},
   "outputs": [
    {
     "name": "stdout",
     "output_type": "stream",
     "text": [
      "Bireysel ve Potansiyel olmayan Müşteri Kitlemiz 3133870 kişi. Borsa Yaptığını Tespit Ettiğimiz Müşteri Kitlemiz 13709 kişi.\n",
      "\n",
      "Kitlemizin % 1.0000095728284837 gittiğimizde, FibaBorsa'da işlem yapan ve FibaBorsa'da işlem yapmayıp başka Menkul Yatırım firmalarını para transferi gerçekleştirecek müşteri kitlemizin % 86.22802538478372'na ulaşabiliyoruz\n",
      "\n",
      "Kitlemizin % 5.00001595471414 gittiğimizde, FibaBorsa'da işlem yapan ve FibaBorsa'da işlem yapmayıp başka Menkul Yatırım firmalarını para transferi gerçekleştirecek müşteri kitlemizin % 95.52119045882267'na ulaşabiliyoruz\n",
      "\n",
      "Kitlemizin % 10.0 gittiğimizde, FibaBorsa'da işlem yapan ve FibaBorsa'da işlem yapmayıp başka Menkul Yatırım firmalarını para transferi gerçekleştirecek müşteri kitlemizin % 97.56364432124882'na ulaşabiliyoruz\n",
      "\n",
      "Kitlemizin % 20.0 gittiğimizde, FibaBorsa'da işlem yapan ve FibaBorsa'da işlem yapmayıp başka Menkul Yatırım firmalarını para transferi gerçekleştirecek müşteri kitlemizin % 98.86935589758554'na ulaşabiliyoruz\n",
      "\n",
      "Kitlemizin % 30.0 gittiğimizde, FibaBorsa'da işlem yapan ve FibaBorsa'da işlem yapmayıp başka Menkul Yatırım firmalarını para transferi gerçekleştirecek müşteri kitlemizin % 99.43832518783282'na ulaşabiliyoruz\n"
     ]
    }
   ],
   "source": [
    "print(\"Bireysel ve Potansiyel olmayan Müşteri Kitlemiz {} kişi. Borsa Yaptığını Tespit Ettiğimiz Müşteri Kitlemiz {} kişi.\".format(AT_Y_Prediction.shape[0], AT_Y_Prediction[AT_Y_Prediction['TARGET']==1].shape[0]))\n",
    "print('')\n",
    "print(\"Kitlemizin % {} gittiğimizde, FibaBorsa'da işlem yapan ve FibaBorsa'da işlem yapmayıp başka Menkul Yatırım firmalarını para transferi gerçekleştirecek müşteri kitlemizin % {}'na ulaşabiliyoruz\".format(AT_Y_Prediction[AT_Y_Prediction['PERC']>0.99].shape[0]/AT_Y_Prediction.shape[0]*100, (AT_Y_Prediction[(AT_Y_Prediction['PERC']>0.99) & (AT_Y_Prediction['TARGET']==1)].shape[0] / AT_Y_Prediction[AT_Y_Prediction['TARGET']==1].shape[0])*100))\n",
    "print('')\n",
    "print(\"Kitlemizin % {} gittiğimizde, FibaBorsa'da işlem yapan ve FibaBorsa'da işlem yapmayıp başka Menkul Yatırım firmalarını para transferi gerçekleştirecek müşteri kitlemizin % {}'na ulaşabiliyoruz\".format(AT_Y_Prediction[AT_Y_Prediction['PERC']>0.95].shape[0]/AT_Y_Prediction.shape[0]*100, (AT_Y_Prediction[(AT_Y_Prediction['PERC']>0.95) & (AT_Y_Prediction['TARGET']==1)].shape[0] / AT_Y_Prediction[AT_Y_Prediction['TARGET']==1].shape[0])*100))\n",
    "print('')\n",
    "print(\"Kitlemizin % {} gittiğimizde, FibaBorsa'da işlem yapan ve FibaBorsa'da işlem yapmayıp başka Menkul Yatırım firmalarını para transferi gerçekleştirecek müşteri kitlemizin % {}'na ulaşabiliyoruz\".format(AT_Y_Prediction[AT_Y_Prediction['PERC']>0.90].shape[0]/AT_Y_Prediction.shape[0]*100, (AT_Y_Prediction[(AT_Y_Prediction['PERC']>0.90) & (AT_Y_Prediction['TARGET']==1)].shape[0] / AT_Y_Prediction[AT_Y_Prediction['TARGET']==1].shape[0])*100))\n",
    "print('')\n",
    "print(\"Kitlemizin % {} gittiğimizde, FibaBorsa'da işlem yapan ve FibaBorsa'da işlem yapmayıp başka Menkul Yatırım firmalarını para transferi gerçekleştirecek müşteri kitlemizin % {}'na ulaşabiliyoruz\".format(AT_Y_Prediction[AT_Y_Prediction['PERC']>0.80].shape[0]/AT_Y_Prediction.shape[0]*100, (AT_Y_Prediction[(AT_Y_Prediction['PERC']>0.80) & (AT_Y_Prediction['TARGET']==1)].shape[0] / AT_Y_Prediction[AT_Y_Prediction['TARGET']==1].shape[0])*100))\n",
    "print('')\n",
    "print(\"Kitlemizin % {} gittiğimizde, FibaBorsa'da işlem yapan ve FibaBorsa'da işlem yapmayıp başka Menkul Yatırım firmalarını para transferi gerçekleştirecek müşteri kitlemizin % {}'na ulaşabiliyoruz\".format(AT_Y_Prediction[AT_Y_Prediction['PERC']>0.70].shape[0]/AT_Y_Prediction.shape[0]*100, (AT_Y_Prediction[(AT_Y_Prediction['PERC']>0.70) & (AT_Y_Prediction['TARGET']==1)].shape[0] / AT_Y_Prediction[AT_Y_Prediction['TARGET']==1].shape[0])*100))"
   ]
  },
  {
   "cell_type": "code",
   "execution_count": null,
   "id": "c1460f86-da5e-4fbc-b752-a1eea523fa31",
   "metadata": {},
   "outputs": [],
   "source": []
  }
 ],
 "metadata": {
  "kernelspec": {
   "display_name": "Python 3 (ipykernel)",
   "language": "python",
   "name": "python3"
  },
  "language_info": {
   "codemirror_mode": {
    "name": "ipython",
    "version": 3
   },
   "file_extension": ".py",
   "mimetype": "text/x-python",
   "name": "python",
   "nbconvert_exporter": "python",
   "pygments_lexer": "ipython3",
   "version": "3.9.12"
  }
 },
 "nbformat": 4,
 "nbformat_minor": 5
}
